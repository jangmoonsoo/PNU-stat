{
 "cells": [
  {
   "cell_type": "markdown",
   "id": "3f71991b",
   "metadata": {},
   "source": [
    "## Step 3. 즉시 실행 모드와 텐서 생성"
   ]
  },
  {
   "cell_type": "code",
   "execution_count": 1,
   "id": "7eeae2a0",
   "metadata": {},
   "outputs": [],
   "source": [
    "from tensorflow.python.framework.ops import enable_eager_execution\n",
    "import tensorflow as tf"
   ]
  },
  {
   "cell_type": "code",
   "execution_count": 2,
   "id": "52b4fa5a",
   "metadata": {},
   "outputs": [
    {
     "data": {
      "text/plain": [
       "True"
      ]
     },
     "execution_count": 2,
     "metadata": {},
     "output_type": "execute_result"
    }
   ],
   "source": [
    "enable_eager_execution()\n",
    "tf.executing_eagerly()"
   ]
  },
  {
   "cell_type": "code",
   "execution_count": 3,
   "id": "b4fad972",
   "metadata": {},
   "outputs": [],
   "source": [
    "a = tf.constant(1)\n",
    "b = tf.constant(2)\n",
    "c = a+b"
   ]
  },
  {
   "cell_type": "code",
   "execution_count": 7,
   "id": "a510fd69",
   "metadata": {},
   "outputs": [
    {
     "data": {
      "text/plain": [
       "(1, 2, 3)"
      ]
     },
     "execution_count": 7,
     "metadata": {},
     "output_type": "execute_result"
    }
   ],
   "source": [
    "a.numpy(), b.numpy(), c.numpy()"
   ]
  },
  {
   "cell_type": "markdown",
   "id": "f95105ef",
   "metadata": {},
   "source": [
    "### 텐서 생성: tf.constant"
   ]
  },
  {
   "cell_type": "code",
   "execution_count": 8,
   "id": "454506d0",
   "metadata": {},
   "outputs": [],
   "source": [
    "a = tf.constant(1)\n",
    "b = tf.constant([1,2,3,4])\n",
    "c = tf.constant([[1,2], [3,4]])\n",
    "d = tf.constant([[[1,2], [3,4]]])"
   ]
  },
  {
   "cell_type": "code",
   "execution_count": 9,
   "id": "fe4dedde",
   "metadata": {},
   "outputs": [
    {
     "data": {
      "text/plain": [
       "tf.int32"
      ]
     },
     "execution_count": 9,
     "metadata": {},
     "output_type": "execute_result"
    }
   ],
   "source": [
    "a.dtype"
   ]
  },
  {
   "cell_type": "code",
   "execution_count": 12,
   "id": "44d25bab",
   "metadata": {},
   "outputs": [
    {
     "data": {
      "text/plain": [
       "(0, 1, 2)"
      ]
     },
     "execution_count": 12,
     "metadata": {},
     "output_type": "execute_result"
    }
   ],
   "source": [
    "a.ndim, b.ndim, c.ndim"
   ]
  },
  {
   "cell_type": "code",
   "execution_count": 13,
   "id": "3c32a7a3",
   "metadata": {},
   "outputs": [
    {
     "data": {
      "text/plain": [
       "(TensorShape([]), TensorShape([4]), TensorShape([2, 2]))"
      ]
     },
     "execution_count": 13,
     "metadata": {},
     "output_type": "execute_result"
    }
   ],
   "source": [
    "a.shape, b.shape, c.shape"
   ]
  },
  {
   "cell_type": "code",
   "execution_count": 14,
   "id": "738e24a0",
   "metadata": {},
   "outputs": [
    {
     "data": {
      "text/plain": [
       "<tf.Tensor: shape=(), dtype=int32, numpy=1>"
      ]
     },
     "execution_count": 14,
     "metadata": {},
     "output_type": "execute_result"
    }
   ],
   "source": [
    "b[0]"
   ]
  },
  {
   "cell_type": "code",
   "execution_count": 15,
   "id": "2208c20d",
   "metadata": {},
   "outputs": [
    {
     "data": {
      "text/plain": [
       "<tf.Tensor: shape=(2,), dtype=int32, numpy=array([1, 2])>"
      ]
     },
     "execution_count": 15,
     "metadata": {},
     "output_type": "execute_result"
    }
   ],
   "source": [
    "b[:2]"
   ]
  },
  {
   "cell_type": "code",
   "execution_count": 16,
   "id": "137f99ab",
   "metadata": {},
   "outputs": [
    {
     "data": {
      "text/plain": [
       "<tf.Tensor: shape=(), dtype=int32, numpy=1>"
      ]
     },
     "execution_count": 16,
     "metadata": {},
     "output_type": "execute_result"
    }
   ],
   "source": [
    "c[0,0]"
   ]
  },
  {
   "cell_type": "markdown",
   "id": "53049017",
   "metadata": {},
   "source": [
    "### 텐서 생성: tf.Variable"
   ]
  },
  {
   "cell_type": "code",
   "execution_count": 17,
   "id": "d18d26b8",
   "metadata": {},
   "outputs": [],
   "source": [
    "a = tf.Variable(1)\n",
    "b = tf.Variable([1,2,3,4])\n",
    "c = tf.Variable([[1,2], [3,4]])\n",
    "d = tf.Variable([[[1,2], [3,4]]])"
   ]
  },
  {
   "cell_type": "code",
   "execution_count": 18,
   "id": "68e3a52e",
   "metadata": {},
   "outputs": [
    {
     "data": {
      "text/plain": [
       "tf.int32"
      ]
     },
     "execution_count": 18,
     "metadata": {},
     "output_type": "execute_result"
    }
   ],
   "source": [
    "a.dtype"
   ]
  },
  {
   "cell_type": "code",
   "execution_count": 20,
   "id": "b0e556e7",
   "metadata": {},
   "outputs": [
    {
     "data": {
      "text/plain": [
       "True"
      ]
     },
     "execution_count": 20,
     "metadata": {},
     "output_type": "execute_result"
    }
   ],
   "source": [
    "a.trainable"
   ]
  },
  {
   "cell_type": "code",
   "execution_count": 21,
   "id": "ac50b991",
   "metadata": {},
   "outputs": [
    {
     "data": {
      "text/plain": [
       "1914966050704"
      ]
     },
     "execution_count": 21,
     "metadata": {},
     "output_type": "execute_result"
    }
   ],
   "source": [
    "id(a)"
   ]
  },
  {
   "cell_type": "code",
   "execution_count": 22,
   "id": "c04f3fda",
   "metadata": {},
   "outputs": [
    {
     "data": {
      "text/plain": [
       "<tf.Variable 'UnreadVariable' shape=() dtype=int32, numpy=10>"
      ]
     },
     "execution_count": 22,
     "metadata": {},
     "output_type": "execute_result"
    }
   ],
   "source": [
    "a.assign(10)"
   ]
  },
  {
   "cell_type": "code",
   "execution_count": 23,
   "id": "3d039615",
   "metadata": {},
   "outputs": [
    {
     "data": {
      "text/plain": [
       "<tf.Variable 'UnreadVariable' shape=() dtype=int32, numpy=30>"
      ]
     },
     "execution_count": 23,
     "metadata": {},
     "output_type": "execute_result"
    }
   ],
   "source": [
    "a.assign_add(20)"
   ]
  },
  {
   "cell_type": "code",
   "execution_count": 24,
   "id": "6b5a8d26",
   "metadata": {},
   "outputs": [
    {
     "data": {
      "text/plain": [
       "<tf.Variable 'UnreadVariable' shape=() dtype=int32, numpy=20>"
      ]
     },
     "execution_count": 24,
     "metadata": {},
     "output_type": "execute_result"
    }
   ],
   "source": [
    "a.assign_sub(10)"
   ]
  },
  {
   "cell_type": "code",
   "execution_count": 25,
   "id": "5c05cdba",
   "metadata": {},
   "outputs": [
    {
     "data": {
      "text/plain": [
       "1914966050704"
      ]
     },
     "execution_count": 25,
     "metadata": {},
     "output_type": "execute_result"
    }
   ],
   "source": [
    "id(a)"
   ]
  },
  {
   "cell_type": "markdown",
   "id": "13654761",
   "metadata": {},
   "source": [
    "### tf.zeros(), tf.ones, tf.zeros_like(), tf.ones_like()"
   ]
  },
  {
   "cell_type": "code",
   "execution_count": 26,
   "id": "763c0c07",
   "metadata": {},
   "outputs": [
    {
     "data": {
      "text/plain": [
       "<tf.Tensor: shape=(2, 3), dtype=float32, numpy=\n",
       "array([[0., 0., 0.],\n",
       "       [0., 0., 0.]], dtype=float32)>"
      ]
     },
     "execution_count": 26,
     "metadata": {},
     "output_type": "execute_result"
    }
   ],
   "source": [
    "a = tf.zeros(shape=(2,3))\n",
    "a"
   ]
  },
  {
   "cell_type": "code",
   "execution_count": 28,
   "id": "8b84fae4",
   "metadata": {},
   "outputs": [
    {
     "data": {
      "text/plain": [
       "<tf.Tensor: shape=(2, 3), dtype=float32, numpy=\n",
       "array([[1., 1., 1.],\n",
       "       [1., 1., 1.]], dtype=float32)>"
      ]
     },
     "execution_count": 28,
     "metadata": {},
     "output_type": "execute_result"
    }
   ],
   "source": [
    "b = tf.ones(shape=(2,3))\n",
    "b"
   ]
  },
  {
   "cell_type": "code",
   "execution_count": 29,
   "id": "6bc9f496",
   "metadata": {},
   "outputs": [
    {
     "data": {
      "text/plain": [
       "<tf.Tensor: shape=(2, 3), dtype=float32, numpy=\n",
       "array([[0., 0., 0.],\n",
       "       [0., 0., 0.]], dtype=float32)>"
      ]
     },
     "execution_count": 29,
     "metadata": {},
     "output_type": "execute_result"
    }
   ],
   "source": [
    "c = tf.zeros_like(b)\n",
    "c"
   ]
  },
  {
   "cell_type": "code",
   "execution_count": 30,
   "id": "6d01c4d0",
   "metadata": {},
   "outputs": [
    {
     "data": {
      "text/plain": [
       "<tf.Tensor: shape=(2, 3), dtype=float32, numpy=\n",
       "array([[1., 1., 1.],\n",
       "       [1., 1., 1.]], dtype=float32)>"
      ]
     },
     "execution_count": 30,
     "metadata": {},
     "output_type": "execute_result"
    }
   ],
   "source": [
    "d = tf.ones_like(a)\n",
    "d"
   ]
  },
  {
   "cell_type": "code",
   "execution_count": 31,
   "id": "68a1e993",
   "metadata": {},
   "outputs": [
    {
     "data": {
      "text/plain": [
       "<tf.Variable 'Variable:0' shape=(2, 3) dtype=float32, numpy=\n",
       "array([[1., 1., 1.],\n",
       "       [1., 1., 1.]], dtype=float32)>"
      ]
     },
     "execution_count": 31,
     "metadata": {},
     "output_type": "execute_result"
    }
   ],
   "source": [
    "w = tf.Variable(d)\n",
    "w"
   ]
  },
  {
   "cell_type": "code",
   "execution_count": 32,
   "id": "440c0d6a",
   "metadata": {},
   "outputs": [
    {
     "data": {
      "text/plain": [
       "(1914965888336, 1914967258064)"
      ]
     },
     "execution_count": 32,
     "metadata": {},
     "output_type": "execute_result"
    }
   ],
   "source": [
    "id(d), id(w)"
   ]
  },
  {
   "cell_type": "markdown",
   "id": "a04b0617",
   "metadata": {},
   "source": [
    "### tf.fill(), tf.linspace(), tf.range(), tf.ones_like()"
   ]
  },
  {
   "cell_type": "code",
   "execution_count": 33,
   "id": "d3fa52df",
   "metadata": {},
   "outputs": [
    {
     "data": {
      "text/plain": [
       "<tf.Tensor: shape=(2, 3), dtype=float32, numpy=\n",
       "array([[2., 2., 2.],\n",
       "       [2., 2., 2.]], dtype=float32)>"
      ]
     },
     "execution_count": 33,
     "metadata": {},
     "output_type": "execute_result"
    }
   ],
   "source": [
    "a = tf.fill([2,3], 2.0)\n",
    "a"
   ]
  },
  {
   "cell_type": "code",
   "execution_count": 35,
   "id": "64c98a36",
   "metadata": {},
   "outputs": [
    {
     "data": {
      "text/plain": [
       "<tf.Tensor: shape=(5,), dtype=float32, numpy=array([0.  , 0.25, 0.5 , 0.75, 1.  ], dtype=float32)>"
      ]
     },
     "execution_count": 35,
     "metadata": {},
     "output_type": "execute_result"
    }
   ],
   "source": [
    "b = tf.linspace(0.0, 1.0, 5)\n",
    "b"
   ]
  },
  {
   "cell_type": "code",
   "execution_count": 36,
   "id": "545c42f4",
   "metadata": {},
   "outputs": [
    {
     "data": {
      "text/plain": [
       "<tf.Tensor: shape=(5,), dtype=int32, numpy=array([0, 1, 2, 3, 4])>"
      ]
     },
     "execution_count": 36,
     "metadata": {},
     "output_type": "execute_result"
    }
   ],
   "source": [
    "c = tf.range(5)\n",
    "c"
   ]
  },
  {
   "cell_type": "code",
   "execution_count": 37,
   "id": "cfd126ea",
   "metadata": {},
   "outputs": [
    {
     "data": {
      "text/plain": [
       "<tf.Tensor: shape=(8,), dtype=float32, numpy=array([1. , 1.5, 2. , 2.5, 3. , 3.5, 4. , 4.5], dtype=float32)>"
      ]
     },
     "execution_count": 37,
     "metadata": {},
     "output_type": "execute_result"
    }
   ],
   "source": [
    "d = tf.range(1,5,0.5)\n",
    "d"
   ]
  },
  {
   "cell_type": "code",
   "execution_count": 39,
   "id": "e7273cc9",
   "metadata": {},
   "outputs": [
    {
     "data": {
      "text/plain": [
       "<tf.Tensor: shape=(3,), dtype=float32, numpy=array([0. , 0.4, 0.8], dtype=float32)>"
      ]
     },
     "execution_count": 39,
     "metadata": {},
     "output_type": "execute_result"
    }
   ],
   "source": [
    "tf.range(0,1,0.4)"
   ]
  },
  {
   "cell_type": "markdown",
   "id": "60c3dba0",
   "metadata": {},
   "source": [
    "### tf.reshape(), tf.transpose()"
   ]
  },
  {
   "cell_type": "code",
   "execution_count": 40,
   "id": "fdaeca17",
   "metadata": {},
   "outputs": [
    {
     "data": {
      "text/plain": [
       "<tf.Tensor: shape=(6,), dtype=int32, numpy=array([0, 1, 2, 3, 4, 5])>"
      ]
     },
     "execution_count": 40,
     "metadata": {},
     "output_type": "execute_result"
    }
   ],
   "source": [
    "a = tf.range(6)\n",
    "a"
   ]
  },
  {
   "cell_type": "code",
   "execution_count": 41,
   "id": "a6bbe9a1",
   "metadata": {},
   "outputs": [
    {
     "data": {
      "text/plain": [
       "<tf.Tensor: shape=(2, 3), dtype=int32, numpy=\n",
       "array([[0, 1, 2],\n",
       "       [3, 4, 5]])>"
      ]
     },
     "execution_count": 41,
     "metadata": {},
     "output_type": "execute_result"
    }
   ],
   "source": [
    "b = tf.reshape(a, shape=(2,3))\n",
    "b"
   ]
  },
  {
   "cell_type": "code",
   "execution_count": 42,
   "id": "175e96c7",
   "metadata": {},
   "outputs": [
    {
     "data": {
      "text/plain": [
       "<tf.Tensor: shape=(6,), dtype=int32, numpy=array([0, 1, 2, 3, 4, 5])>"
      ]
     },
     "execution_count": 42,
     "metadata": {},
     "output_type": "execute_result"
    }
   ],
   "source": [
    "c = tf.reshape(b, shape=(-1,))\n",
    "c"
   ]
  },
  {
   "cell_type": "code",
   "execution_count": 43,
   "id": "05d8a9c6",
   "metadata": {},
   "outputs": [
    {
     "data": {
      "text/plain": [
       "<tf.Tensor: shape=(3, 2), dtype=int32, numpy=\n",
       "array([[0, 3],\n",
       "       [1, 4],\n",
       "       [2, 5]])>"
      ]
     },
     "execution_count": 43,
     "metadata": {},
     "output_type": "execute_result"
    }
   ],
   "source": [
    "d = tf.transpose(b)\n",
    "d"
   ]
  },
  {
   "cell_type": "markdown",
   "id": "df34c842",
   "metadata": {},
   "source": [
    "### tf.concat(), tf.stack()"
   ]
  },
  {
   "cell_type": "code",
   "execution_count": 44,
   "id": "08020a94",
   "metadata": {},
   "outputs": [],
   "source": [
    "a = tf.constant([1,2])\n",
    "b = tf.constant([3,4])"
   ]
  },
  {
   "cell_type": "code",
   "execution_count": 45,
   "id": "ad1e7fd8",
   "metadata": {},
   "outputs": [
    {
     "data": {
      "text/plain": [
       "<tf.Tensor: shape=(2, 2), dtype=int32, numpy=\n",
       "array([[1, 2],\n",
       "       [3, 4]])>"
      ]
     },
     "execution_count": 45,
     "metadata": {},
     "output_type": "execute_result"
    }
   ],
   "source": [
    "tf.stack([a,b])"
   ]
  },
  {
   "cell_type": "code",
   "execution_count": 48,
   "id": "800a650c",
   "metadata": {},
   "outputs": [
    {
     "data": {
      "text/plain": [
       "<tf.Tensor: shape=(2, 2), dtype=int32, numpy=\n",
       "array([[1, 3],\n",
       "       [2, 4]])>"
      ]
     },
     "execution_count": 48,
     "metadata": {},
     "output_type": "execute_result"
    }
   ],
   "source": [
    "tf.stack([a,b], axis=1)"
   ]
  },
  {
   "cell_type": "code",
   "execution_count": 51,
   "id": "49ad8da3",
   "metadata": {},
   "outputs": [
    {
     "data": {
      "text/plain": [
       "<tf.Tensor: shape=(4,), dtype=int32, numpy=array([1, 2, 3, 4])>"
      ]
     },
     "execution_count": 51,
     "metadata": {},
     "output_type": "execute_result"
    }
   ],
   "source": [
    "tf.concat([a,b], axis=0)"
   ]
  },
  {
   "cell_type": "code",
   "execution_count": 52,
   "id": "3ef34e51",
   "metadata": {},
   "outputs": [
    {
     "data": {
      "text/plain": [
       "<tf.Tensor: shape=(2, 2), dtype=int32, numpy=\n",
       "array([[1, 2],\n",
       "       [3, 4]])>"
      ]
     },
     "execution_count": 52,
     "metadata": {},
     "output_type": "execute_result"
    }
   ],
   "source": [
    "a = tf.reshape(a, shape=(1,2))\n",
    "b = tf.reshape(b, shape=(1,2))\n",
    "c = tf.concat([a,b], axis=0)\n",
    "c"
   ]
  },
  {
   "cell_type": "markdown",
   "id": "c05efe80",
   "metadata": {},
   "source": [
    "### tf.expand_dims(), tf.squeeze()"
   ]
  },
  {
   "cell_type": "code",
   "execution_count": 53,
   "id": "8f2581ef",
   "metadata": {},
   "outputs": [
    {
     "data": {
      "text/plain": [
       "<tf.Tensor: shape=(2,), dtype=int32, numpy=array([1, 2])>"
      ]
     },
     "execution_count": 53,
     "metadata": {},
     "output_type": "execute_result"
    }
   ],
   "source": [
    "a = tf.constant([1,2])\n",
    "a"
   ]
  },
  {
   "cell_type": "code",
   "execution_count": 54,
   "id": "b3ea7090",
   "metadata": {},
   "outputs": [
    {
     "data": {
      "text/plain": [
       "<tf.Tensor: shape=(1, 2), dtype=int32, numpy=array([[1, 2]])>"
      ]
     },
     "execution_count": 54,
     "metadata": {},
     "output_type": "execute_result"
    }
   ],
   "source": [
    "b = tf.expand_dims(a, axis=0)\n",
    "b"
   ]
  },
  {
   "cell_type": "code",
   "execution_count": 55,
   "id": "4663af64",
   "metadata": {},
   "outputs": [
    {
     "data": {
      "text/plain": [
       "<tf.Tensor: shape=(2, 1), dtype=int32, numpy=\n",
       "array([[1],\n",
       "       [2]])>"
      ]
     },
     "execution_count": 55,
     "metadata": {},
     "output_type": "execute_result"
    }
   ],
   "source": [
    "c = tf.expand_dims(a, axis=1)\n",
    "c"
   ]
  },
  {
   "cell_type": "code",
   "execution_count": 56,
   "id": "911dd0c5",
   "metadata": {},
   "outputs": [
    {
     "data": {
      "text/plain": [
       "<tf.Tensor: shape=(1, 2, 1), dtype=int32, numpy=\n",
       "array([[[1],\n",
       "        [2]]])>"
      ]
     },
     "execution_count": 56,
     "metadata": {},
     "output_type": "execute_result"
    }
   ],
   "source": [
    "d = tf.expand_dims(c, axis=0)\n",
    "d"
   ]
  },
  {
   "cell_type": "markdown",
   "id": "a513be71",
   "metadata": {},
   "source": [
    "### tf.random()"
   ]
  },
  {
   "cell_type": "code",
   "execution_count": 58,
   "id": "dc280bec",
   "metadata": {},
   "outputs": [
    {
     "data": {
      "text/plain": [
       "<tf.Tensor: shape=(5,), dtype=int32, numpy=array([0, 1, 2, 3, 4])>"
      ]
     },
     "execution_count": 58,
     "metadata": {},
     "output_type": "execute_result"
    }
   ],
   "source": [
    "tf.random.set_seed(1)\n",
    "a = tf.range(5)\n",
    "a"
   ]
  },
  {
   "cell_type": "code",
   "execution_count": 59,
   "id": "d2de3195",
   "metadata": {},
   "outputs": [
    {
     "data": {
      "text/plain": [
       "<tf.Tensor: shape=(5,), dtype=int32, numpy=array([2, 0, 1, 4, 3])>"
      ]
     },
     "execution_count": 59,
     "metadata": {},
     "output_type": "execute_result"
    }
   ],
   "source": [
    "tf.random.shuffle(a)"
   ]
  },
  {
   "cell_type": "code",
   "execution_count": 60,
   "id": "c4cf1ff1",
   "metadata": {},
   "outputs": [
    {
     "data": {
      "text/plain": [
       "<tf.Tensor: shape=(2, 3), dtype=float32, numpy=\n",
       "array([[0.51010704, 0.44353175, 0.4085331 ],\n",
       "       [0.9924923 , 0.68866396, 0.34584963]], dtype=float32)>"
      ]
     },
     "execution_count": 60,
     "metadata": {},
     "output_type": "execute_result"
    }
   ],
   "source": [
    "tf.random.uniform(shape=(2,3), minval=0, maxval=1)"
   ]
  },
  {
   "cell_type": "code",
   "execution_count": 61,
   "id": "f72ed2c0",
   "metadata": {},
   "outputs": [
    {
     "data": {
      "text/plain": [
       "<tf.Tensor: shape=(2, 3), dtype=float32, numpy=\n",
       "array([[0.8292774 , 0.634228  , 0.5147276 ],\n",
       "       [0.39108086, 0.5809028 , 0.04848182]], dtype=float32)>"
      ]
     },
     "execution_count": 61,
     "metadata": {},
     "output_type": "execute_result"
    }
   ],
   "source": [
    "tf.random.uniform(shape=(2,3))"
   ]
  },
  {
   "cell_type": "code",
   "execution_count": 62,
   "id": "de051d4a",
   "metadata": {},
   "outputs": [
    {
     "data": {
      "text/plain": [
       "<tf.Tensor: shape=(2, 3), dtype=float32, numpy=\n",
       "array([[13.388033 , 10.239387 ,  7.6830797],\n",
       "       [10.345208 ,  8.571007 , 11.379201 ]], dtype=float32)>"
      ]
     },
     "execution_count": 62,
     "metadata": {},
     "output_type": "execute_result"
    }
   ],
   "source": [
    "tf.random.normal(shape=(2,3), mean=10, stddev=2)"
   ]
  },
  {
   "cell_type": "code",
   "execution_count": 63,
   "id": "15f1ecae",
   "metadata": {},
   "outputs": [
    {
     "data": {
      "text/plain": [
       "<tf.Tensor: shape=(2, 3), dtype=float32, numpy=\n",
       "array([[ 0.6118191 ,  0.49197587,  0.8756376 ],\n",
       "       [-0.6439091 ,  0.9486923 , -0.7846497 ]], dtype=float32)>"
      ]
     },
     "execution_count": 63,
     "metadata": {},
     "output_type": "execute_result"
    }
   ],
   "source": [
    "tf.random.truncated_normal(shape=(2,3))"
   ]
  },
  {
   "cell_type": "code",
   "execution_count": 64,
   "id": "9b497d24",
   "metadata": {},
   "outputs": [
    {
     "data": {
      "text/plain": [
       "<tf.Variable 'Variable:0' shape=(2, 3) dtype=float32, numpy=\n",
       "array([[-1.1771784 , -0.90325946,  0.8419609 ],\n",
       "       [-0.06870949,  0.33911815, -0.95425665]], dtype=float32)>"
      ]
     },
     "execution_count": 64,
     "metadata": {},
     "output_type": "execute_result"
    }
   ],
   "source": [
    "w = tf.Variable(tf.random.truncated_normal(shape=(2,3)))\n",
    "w"
   ]
  },
  {
   "cell_type": "markdown",
   "id": "ef24a449",
   "metadata": {},
   "source": [
    "## Step 04 : 텐서플로 연산 기초"
   ]
  },
  {
   "cell_type": "code",
   "execution_count": 65,
   "id": "7200efee",
   "metadata": {},
   "outputs": [
    {
     "data": {
      "text/plain": [
       "<tf.Tensor: shape=(2,), dtype=int32, numpy=array([2, 3])>"
      ]
     },
     "execution_count": 65,
     "metadata": {},
     "output_type": "execute_result"
    }
   ],
   "source": [
    "a = tf.constant([1,2])\n",
    "a + 1"
   ]
  },
  {
   "cell_type": "code",
   "execution_count": 66,
   "id": "ee1202d6",
   "metadata": {},
   "outputs": [
    {
     "data": {
      "text/plain": [
       "<tf.Tensor: shape=(2,), dtype=int32, numpy=array([0, 1])>"
      ]
     },
     "execution_count": 66,
     "metadata": {},
     "output_type": "execute_result"
    }
   ],
   "source": [
    "a - 1"
   ]
  },
  {
   "cell_type": "code",
   "execution_count": 67,
   "id": "c8e073ce",
   "metadata": {},
   "outputs": [
    {
     "data": {
      "text/plain": [
       "<tf.Tensor: shape=(2,), dtype=int32, numpy=array([2, 4])>"
      ]
     },
     "execution_count": 67,
     "metadata": {},
     "output_type": "execute_result"
    }
   ],
   "source": [
    "a * 2"
   ]
  },
  {
   "cell_type": "code",
   "execution_count": 68,
   "id": "85c6608e",
   "metadata": {},
   "outputs": [
    {
     "data": {
      "text/plain": [
       "<tf.Tensor: shape=(2,), dtype=float64, numpy=array([0.5, 1. ])>"
      ]
     },
     "execution_count": 68,
     "metadata": {},
     "output_type": "execute_result"
    }
   ],
   "source": [
    "a / 2"
   ]
  },
  {
   "cell_type": "code",
   "execution_count": 69,
   "id": "f9912662",
   "metadata": {},
   "outputs": [
    {
     "data": {
      "text/plain": [
       "<tf.Tensor: shape=(2,), dtype=int32, numpy=array([4, 6])>"
      ]
     },
     "execution_count": 69,
     "metadata": {},
     "output_type": "execute_result"
    }
   ],
   "source": [
    "b = tf.constant([3,4])\n",
    "a + b"
   ]
  },
  {
   "cell_type": "code",
   "execution_count": 70,
   "id": "7f2fe753",
   "metadata": {},
   "outputs": [],
   "source": [
    "a = tf.constant([[1,2], [3,4]])\n",
    "b = tf.constant([1,2])"
   ]
  },
  {
   "cell_type": "code",
   "execution_count": 71,
   "id": "1734e6ae",
   "metadata": {},
   "outputs": [
    {
     "data": {
      "text/plain": [
       "<tf.Tensor: shape=(2, 2), dtype=int32, numpy=\n",
       "array([[2, 4],\n",
       "       [4, 6]])>"
      ]
     },
     "execution_count": 71,
     "metadata": {},
     "output_type": "execute_result"
    }
   ],
   "source": [
    "a + b"
   ]
  },
  {
   "cell_type": "code",
   "execution_count": 72,
   "id": "7795ee39",
   "metadata": {},
   "outputs": [
    {
     "data": {
      "text/plain": [
       "<tf.Tensor: shape=(2, 2), dtype=int32, numpy=\n",
       "array([[0, 0],\n",
       "       [2, 2]])>"
      ]
     },
     "execution_count": 72,
     "metadata": {},
     "output_type": "execute_result"
    }
   ],
   "source": [
    "a - b"
   ]
  },
  {
   "cell_type": "code",
   "execution_count": 73,
   "id": "d4892460",
   "metadata": {},
   "outputs": [
    {
     "data": {
      "text/plain": [
       "<tf.Tensor: shape=(2, 2), dtype=int32, numpy=\n",
       "array([[1, 4],\n",
       "       [3, 8]])>"
      ]
     },
     "execution_count": 73,
     "metadata": {},
     "output_type": "execute_result"
    }
   ],
   "source": [
    "a * b"
   ]
  },
  {
   "cell_type": "code",
   "execution_count": 74,
   "id": "f4d557c4",
   "metadata": {},
   "outputs": [
    {
     "data": {
      "text/plain": [
       "<tf.Tensor: shape=(2, 2), dtype=float64, numpy=\n",
       "array([[1., 1.],\n",
       "       [3., 2.]])>"
      ]
     },
     "execution_count": 74,
     "metadata": {},
     "output_type": "execute_result"
    }
   ],
   "source": [
    "a / b"
   ]
  },
  {
   "cell_type": "markdown",
   "id": "e906231a",
   "metadata": {},
   "source": [
    "### min, max, sum, prod, mean, argmin, argmax, sort"
   ]
  },
  {
   "cell_type": "code",
   "execution_count": 75,
   "id": "033a1875",
   "metadata": {},
   "outputs": [],
   "source": [
    "a = tf.reshape(tf.range(12), shape=(3,4))"
   ]
  },
  {
   "cell_type": "code",
   "execution_count": 76,
   "id": "cb48a2a5",
   "metadata": {},
   "outputs": [
    {
     "data": {
      "text/plain": [
       "<tf.Tensor: shape=(3, 4), dtype=int32, numpy=\n",
       "array([[ 0,  1,  2,  3],\n",
       "       [ 4,  5,  6,  7],\n",
       "       [ 8,  9, 10, 11]])>"
      ]
     },
     "execution_count": 76,
     "metadata": {},
     "output_type": "execute_result"
    }
   ],
   "source": [
    "a"
   ]
  },
  {
   "cell_type": "code",
   "execution_count": 77,
   "id": "c712a3ca",
   "metadata": {},
   "outputs": [
    {
     "data": {
      "text/plain": [
       "<tf.Tensor: shape=(), dtype=int32, numpy=0>"
      ]
     },
     "execution_count": 77,
     "metadata": {},
     "output_type": "execute_result"
    }
   ],
   "source": [
    "tf.reduce_min(a) # 전체 중 최소값"
   ]
  },
  {
   "cell_type": "code",
   "execution_count": 79,
   "id": "d0f61f7b",
   "metadata": {},
   "outputs": [
    {
     "data": {
      "text/plain": [
       "<tf.Tensor: shape=(3,), dtype=int32, numpy=array([0, 4, 8])>"
      ]
     },
     "execution_count": 79,
     "metadata": {},
     "output_type": "execute_result"
    }
   ],
   "source": [
    "tf.reduce_min(a, axis=1) # 1st axis - 가로 행에서 최솟값들을 리턴"
   ]
  },
  {
   "cell_type": "code",
   "execution_count": 80,
   "id": "25292b73",
   "metadata": {},
   "outputs": [
    {
     "data": {
      "text/plain": [
       "<tf.Tensor: shape=(), dtype=int32, numpy=66>"
      ]
     },
     "execution_count": 80,
     "metadata": {},
     "output_type": "execute_result"
    }
   ],
   "source": [
    "tf.reduce_sum(a)"
   ]
  },
  {
   "cell_type": "code",
   "execution_count": 81,
   "id": "d26fa240",
   "metadata": {},
   "outputs": [
    {
     "data": {
      "text/plain": [
       "<tf.Tensor: shape=(3,), dtype=int32, numpy=array([ 6, 22, 38])>"
      ]
     },
     "execution_count": 81,
     "metadata": {},
     "output_type": "execute_result"
    }
   ],
   "source": [
    "tf.reduce_sum(a, axis=1) # 행별 합"
   ]
  },
  {
   "cell_type": "code",
   "execution_count": 83,
   "id": "62b5a276",
   "metadata": {},
   "outputs": [
    {
     "data": {
      "text/plain": [
       "<tf.Tensor: shape=(4,), dtype=int32, numpy=array([12, 15, 18, 21])>"
      ]
     },
     "execution_count": 83,
     "metadata": {},
     "output_type": "execute_result"
    }
   ],
   "source": [
    "tf.reduce_sum(a, axis=0) # 열별 합"
   ]
  },
  {
   "cell_type": "code",
   "execution_count": 84,
   "id": "32ac3f94",
   "metadata": {},
   "outputs": [
    {
     "data": {
      "text/plain": [
       "<tf.Tensor: shape=(), dtype=int32, numpy=0>"
      ]
     },
     "execution_count": 84,
     "metadata": {},
     "output_type": "execute_result"
    }
   ],
   "source": [
    "tf.reduce_prod(a)"
   ]
  },
  {
   "cell_type": "code",
   "execution_count": 85,
   "id": "56658465",
   "metadata": {},
   "outputs": [
    {
     "data": {
      "text/plain": [
       "<tf.Tensor: shape=(4,), dtype=int32, numpy=array([  0,  45, 120, 231])>"
      ]
     },
     "execution_count": 85,
     "metadata": {},
     "output_type": "execute_result"
    }
   ],
   "source": [
    "tf.reduce_prod(a, axis=0)"
   ]
  },
  {
   "cell_type": "code",
   "execution_count": 91,
   "id": "906b88ce",
   "metadata": {},
   "outputs": [
    {
     "data": {
      "text/plain": [
       "<tf.Tensor: shape=(3, 4), dtype=int32, numpy=\n",
       "array([[ 1,  2,  8, 10],\n",
       "       [ 4,  9,  3,  7],\n",
       "       [ 5,  6,  0, 11]])>"
      ]
     },
     "execution_count": 91,
     "metadata": {},
     "output_type": "execute_result"
    }
   ],
   "source": [
    "a = tf.reshape(tf.random.shuffle(tf.range(12)), shape=(3,4))\n",
    "a"
   ]
  },
  {
   "cell_type": "code",
   "execution_count": 92,
   "id": "615f02af",
   "metadata": {},
   "outputs": [
    {
     "data": {
      "text/plain": [
       "<tf.Tensor: shape=(4,), dtype=int64, numpy=array([0, 0, 2, 1], dtype=int64)>"
      ]
     },
     "execution_count": 92,
     "metadata": {},
     "output_type": "execute_result"
    }
   ],
   "source": [
    "tf.argmin(a)"
   ]
  },
  {
   "cell_type": "code",
   "execution_count": 93,
   "id": "27e55264",
   "metadata": {},
   "outputs": [
    {
     "data": {
      "text/plain": [
       "<tf.Tensor: shape=(3,), dtype=int64, numpy=array([0, 2, 2], dtype=int64)>"
      ]
     },
     "execution_count": 93,
     "metadata": {},
     "output_type": "execute_result"
    }
   ],
   "source": [
    "tf.argmin(a, axis=1)"
   ]
  },
  {
   "cell_type": "code",
   "execution_count": 94,
   "id": "62ee4190",
   "metadata": {},
   "outputs": [
    {
     "data": {
      "text/plain": [
       "<tf.Tensor: shape=(12,), dtype=int32, numpy=array([ 8, 11,  3,  0,  6,  9,  7, 10,  1,  4,  2,  5])>"
      ]
     },
     "execution_count": 94,
     "metadata": {},
     "output_type": "execute_result"
    }
   ],
   "source": [
    "a = tf.random.shuffle(tf.range(12))\n",
    "a"
   ]
  },
  {
   "cell_type": "code",
   "execution_count": 95,
   "id": "65a2affa",
   "metadata": {},
   "outputs": [
    {
     "data": {
      "text/plain": [
       "<tf.Tensor: shape=(12,), dtype=int32, numpy=array([ 0,  1,  2,  3,  4,  5,  6,  7,  8,  9, 10, 11])>"
      ]
     },
     "execution_count": 95,
     "metadata": {},
     "output_type": "execute_result"
    }
   ],
   "source": [
    "tf.sort(a)"
   ]
  },
  {
   "cell_type": "code",
   "execution_count": 99,
   "id": "0decb1c5",
   "metadata": {},
   "outputs": [
    {
     "data": {
      "text/plain": [
       "<tf.Tensor: shape=(12,), dtype=int32, numpy=array([11, 10,  9,  8,  7,  6,  5,  4,  3,  2,  1,  0])>"
      ]
     },
     "execution_count": 99,
     "metadata": {},
     "output_type": "execute_result"
    }
   ],
   "source": [
    "tf.sort(a, direction='DESCENDING')"
   ]
  },
  {
   "cell_type": "code",
   "execution_count": 100,
   "id": "0a107f35",
   "metadata": {},
   "outputs": [
    {
     "data": {
      "text/plain": [
       "<tf.Tensor: shape=(3, 4), dtype=int32, numpy=\n",
       "array([[ 8, 11,  3,  0],\n",
       "       [ 6,  9,  7, 10],\n",
       "       [ 1,  4,  2,  5]])>"
      ]
     },
     "execution_count": 100,
     "metadata": {},
     "output_type": "execute_result"
    }
   ],
   "source": [
    "a = tf.reshape(a, shape=(3,4))\n",
    "a"
   ]
  },
  {
   "cell_type": "code",
   "execution_count": 101,
   "id": "07c68eeb",
   "metadata": {},
   "outputs": [
    {
     "data": {
      "text/plain": [
       "<tf.Tensor: shape=(3, 4), dtype=int32, numpy=\n",
       "array([[ 0,  3,  8, 11],\n",
       "       [ 6,  7,  9, 10],\n",
       "       [ 1,  2,  4,  5]])>"
      ]
     },
     "execution_count": 101,
     "metadata": {},
     "output_type": "execute_result"
    }
   ],
   "source": [
    "tf.sort(a)"
   ]
  },
  {
   "cell_type": "code",
   "execution_count": 102,
   "id": "f1a5681c",
   "metadata": {},
   "outputs": [
    {
     "data": {
      "text/plain": [
       "<tf.Tensor: shape=(3, 4), dtype=int32, numpy=\n",
       "array([[ 0,  3,  8, 11],\n",
       "       [ 6,  7,  9, 10],\n",
       "       [ 1,  2,  4,  5]])>"
      ]
     },
     "execution_count": 102,
     "metadata": {},
     "output_type": "execute_result"
    }
   ],
   "source": [
    "tf.sort(a, axis=1)"
   ]
  },
  {
   "cell_type": "code",
   "execution_count": 104,
   "id": "c53b465c",
   "metadata": {},
   "outputs": [
    {
     "data": {
      "text/plain": [
       "<tf.Tensor: shape=(3, 4), dtype=int32, numpy=\n",
       "array([[ 1,  4,  2,  0],\n",
       "       [ 6,  9,  3,  5],\n",
       "       [ 8, 11,  7, 10]])>"
      ]
     },
     "execution_count": 104,
     "metadata": {},
     "output_type": "execute_result"
    }
   ],
   "source": [
    "tf.sort(a, axis=0)"
   ]
  },
  {
   "cell_type": "markdown",
   "id": "32d0f398",
   "metadata": {},
   "source": [
    "### 선형대수 tf.linalg : norm, matrix_transpose, det, inv, matmul"
   ]
  },
  {
   "cell_type": "code",
   "execution_count": 107,
   "id": "caa1281a",
   "metadata": {},
   "outputs": [
    {
     "data": {
      "text/plain": [
       "<tf.Tensor: shape=(3,), dtype=float32, numpy=array([1., 2., 3.], dtype=float32)>"
      ]
     },
     "execution_count": 107,
     "metadata": {},
     "output_type": "execute_result"
    }
   ],
   "source": [
    "a = tf.constant([1,2,3], dtype=tf.float32)\n",
    "a"
   ]
  },
  {
   "cell_type": "code",
   "execution_count": 108,
   "id": "1a6cfd39",
   "metadata": {},
   "outputs": [
    {
     "data": {
      "text/plain": [
       "<tf.Tensor: shape=(), dtype=float32, numpy=3.7416573>"
      ]
     },
     "execution_count": 108,
     "metadata": {},
     "output_type": "execute_result"
    }
   ],
   "source": [
    "tf.norm(a)"
   ]
  },
  {
   "cell_type": "code",
   "execution_count": 115,
   "id": "c74a1d03",
   "metadata": {},
   "outputs": [
    {
     "data": {
      "text/plain": [
       "<tf.Tensor: shape=(2, 2), dtype=float32, numpy=\n",
       "array([[1., 3.],\n",
       "       [2., 4.]], dtype=float32)>"
      ]
     },
     "execution_count": 115,
     "metadata": {},
     "output_type": "execute_result"
    }
   ],
   "source": [
    "A = tf.constant([[1,2], [3,4]], dtype=tf.float32)\n",
    "tf.linalg.matrix_transpose(A)"
   ]
  },
  {
   "cell_type": "code",
   "execution_count": 116,
   "id": "72a4d02b",
   "metadata": {},
   "outputs": [
    {
     "data": {
      "text/plain": [
       "<tf.Tensor: shape=(), dtype=float32, numpy=-2.0>"
      ]
     },
     "execution_count": 116,
     "metadata": {},
     "output_type": "execute_result"
    }
   ],
   "source": [
    "tf.linalg.det(A)"
   ]
  },
  {
   "cell_type": "code",
   "execution_count": 118,
   "id": "1f2e85c8",
   "metadata": {},
   "outputs": [],
   "source": [
    "B = tf.linalg.inv(A)"
   ]
  },
  {
   "cell_type": "code",
   "execution_count": 119,
   "id": "44dfd0c2",
   "metadata": {},
   "outputs": [
    {
     "data": {
      "text/plain": [
       "<tf.Tensor: shape=(2, 2), dtype=float32, numpy=\n",
       "array([[1., 0.],\n",
       "       [0., 1.]], dtype=float32)>"
      ]
     },
     "execution_count": 119,
     "metadata": {},
     "output_type": "execute_result"
    }
   ],
   "source": [
    "tf.matmul(A,B)"
   ]
  },
  {
   "cell_type": "markdown",
   "id": "78922bfd",
   "metadata": {},
   "source": [
    "### 선형대수 : 선형방정식의 해 1"
   ]
  },
  {
   "cell_type": "code",
   "execution_count": 120,
   "id": "e09f2dab",
   "metadata": {},
   "outputs": [],
   "source": [
    "A = tf.constant([[1, 4, 1],\n",
    "                [1, 6, -1],\n",
    "                [2, -1, 2]], dtype=tf.float32)\n",
    "b = tf.constant([[7],\n",
    "                [13],\n",
    "                [5]], dtype=tf.float32)"
   ]
  },
  {
   "cell_type": "code",
   "execution_count": 121,
   "id": "0550bc64",
   "metadata": {},
   "outputs": [
    {
     "data": {
      "text/plain": [
       "<tf.Tensor: shape=(), dtype=float32, numpy=-18.0>"
      ]
     },
     "execution_count": 121,
     "metadata": {},
     "output_type": "execute_result"
    }
   ],
   "source": [
    "tf.linalg.det(A)"
   ]
  },
  {
   "cell_type": "code",
   "execution_count": 122,
   "id": "d4f02ca3",
   "metadata": {},
   "outputs": [],
   "source": [
    "x = tf.matmul(tf.linalg.inv(A), b)"
   ]
  },
  {
   "cell_type": "code",
   "execution_count": 123,
   "id": "3375db70",
   "metadata": {},
   "outputs": [
    {
     "data": {
      "text/plain": [
       "<tf.Tensor: shape=(3, 1), dtype=float32, numpy=\n",
       "array([[ 5.000001 ],\n",
       "       [ 1.       ],\n",
       "       [-1.9999998]], dtype=float32)>"
      ]
     },
     "execution_count": 123,
     "metadata": {},
     "output_type": "execute_result"
    }
   ],
   "source": [
    "x"
   ]
  },
  {
   "cell_type": "code",
   "execution_count": 124,
   "id": "0ff7b3f9",
   "metadata": {},
   "outputs": [],
   "source": [
    "def all_close(x, y, tol=1e-5):\n",
    "#    return tf.reduce_sum(tf.abs(x-y)) < tol\n",
    "    return tf.reduce_sum(tf.square(x-y)) < tol\n"
   ]
  },
  {
   "cell_type": "code",
   "execution_count": 125,
   "id": "a81c6d3b",
   "metadata": {},
   "outputs": [
    {
     "data": {
      "text/plain": [
       "<tf.Tensor: shape=(), dtype=bool, numpy=True>"
      ]
     },
     "execution_count": 125,
     "metadata": {},
     "output_type": "execute_result"
    }
   ],
   "source": [
    "all_close(tf.matmul(A, x), b)"
   ]
  },
  {
   "cell_type": "code",
   "execution_count": 127,
   "id": "602bf59f",
   "metadata": {},
   "outputs": [
    {
     "data": {
      "text/plain": [
       "<tf.Tensor: shape=(3, 1), dtype=float32, numpy=\n",
       "array([[ 5.],\n",
       "       [ 1.],\n",
       "       [-2.]], dtype=float32)>"
      ]
     },
     "execution_count": 127,
     "metadata": {},
     "output_type": "execute_result"
    }
   ],
   "source": [
    "x = tf.linalg.solve(A, b)\n",
    "x"
   ]
  },
  {
   "cell_type": "code",
   "execution_count": 128,
   "id": "eea402ec",
   "metadata": {},
   "outputs": [
    {
     "data": {
      "text/plain": [
       "<tf.Tensor: shape=(), dtype=bool, numpy=True>"
      ]
     },
     "execution_count": 128,
     "metadata": {},
     "output_type": "execute_result"
    }
   ],
   "source": [
    "all_close(tf.matmul(tf.linalg.inv(A), b), x)"
   ]
  },
  {
   "cell_type": "markdown",
   "id": "49fe5a83",
   "metadata": {},
   "source": [
    "### 선형대수 : 선형방정식의 해 2(A=PLU)"
   ]
  },
  {
   "cell_type": "code",
   "execution_count": 2,
   "id": "4430f72d",
   "metadata": {},
   "outputs": [],
   "source": [
    "A = tf.constant([[1,4,1],\n",
    "                [1,6,-1],\n",
    "                [2,-1,2]], dtype=tf.float32)"
   ]
  },
  {
   "cell_type": "code",
   "execution_count": 3,
   "id": "6d873a69",
   "metadata": {},
   "outputs": [],
   "source": [
    "L_U, p = tf.linalg.lu(A)"
   ]
  },
  {
   "cell_type": "code",
   "execution_count": 4,
   "id": "fd092d1c",
   "metadata": {},
   "outputs": [
    {
     "data": {
      "text/plain": [
       "<tf.Tensor: shape=(3, 3), dtype=float32, numpy=\n",
       "array([[ 2.       , -1.       ,  2.       ],\n",
       "       [ 0.5      ,  6.5      , -2.       ],\n",
       "       [ 0.5      ,  0.6923077,  1.3846154]], dtype=float32)>"
      ]
     },
     "execution_count": 4,
     "metadata": {},
     "output_type": "execute_result"
    }
   ],
   "source": [
    "L_U"
   ]
  },
  {
   "cell_type": "code",
   "execution_count": 5,
   "id": "d1e8694d",
   "metadata": {},
   "outputs": [
    {
     "data": {
      "text/plain": [
       "<tf.Tensor: shape=(3,), dtype=int32, numpy=array([2, 1, 0])>"
      ]
     },
     "execution_count": 5,
     "metadata": {},
     "output_type": "execute_result"
    }
   ],
   "source": [
    "p"
   ]
  },
  {
   "cell_type": "code",
   "execution_count": 6,
   "id": "53f03c2e",
   "metadata": {},
   "outputs": [],
   "source": [
    "U = tf.linalg.band_part(L_U, 0, -1) # upper triangle"
   ]
  },
  {
   "cell_type": "code",
   "execution_count": 7,
   "id": "dae60f81",
   "metadata": {},
   "outputs": [
    {
     "data": {
      "text/plain": [
       "<tf.Tensor: shape=(3, 3), dtype=float32, numpy=\n",
       "array([[ 2.       , -1.       ,  2.       ],\n",
       "       [ 0.       ,  6.5      , -2.       ],\n",
       "       [ 0.       ,  0.       ,  1.3846154]], dtype=float32)>"
      ]
     },
     "execution_count": 7,
     "metadata": {},
     "output_type": "execute_result"
    }
   ],
   "source": [
    "U"
   ]
  },
  {
   "cell_type": "code",
   "execution_count": 10,
   "id": "c98d8bfd",
   "metadata": {},
   "outputs": [],
   "source": [
    "L = tf.linalg.band_part(L_U, -1, 0) # lower triangle"
   ]
  },
  {
   "cell_type": "code",
   "execution_count": 11,
   "id": "13f67eb7",
   "metadata": {},
   "outputs": [
    {
     "data": {
      "text/plain": [
       "<tf.Tensor: shape=(3, 3), dtype=float32, numpy=\n",
       "array([[2.       , 0.       , 0.       ],\n",
       "       [0.5      , 6.5      , 0.       ],\n",
       "       [0.5      , 0.6923077, 1.3846154]], dtype=float32)>"
      ]
     },
     "execution_count": 11,
     "metadata": {},
     "output_type": "execute_result"
    }
   ],
   "source": [
    "L"
   ]
  },
  {
   "cell_type": "code",
   "execution_count": 12,
   "id": "61e0dd0e",
   "metadata": {},
   "outputs": [],
   "source": [
    "L = tf.linalg.set_diag(L, [1,1,1]) # strictly lower part of LU"
   ]
  },
  {
   "cell_type": "code",
   "execution_count": 13,
   "id": "96dd18c9",
   "metadata": {},
   "outputs": [
    {
     "data": {
      "text/plain": [
       "<tf.Tensor: shape=(3, 3), dtype=float32, numpy=\n",
       "array([[1.       , 0.       , 0.       ],\n",
       "       [0.5      , 1.       , 0.       ],\n",
       "       [0.5      , 0.6923077, 1.       ]], dtype=float32)>"
      ]
     },
     "execution_count": 13,
     "metadata": {},
     "output_type": "execute_result"
    }
   ],
   "source": [
    "L"
   ]
  },
  {
   "cell_type": "code",
   "execution_count": 14,
   "id": "cdcfc5ed",
   "metadata": {},
   "outputs": [
    {
     "data": {
      "text/plain": [
       "<tf.Tensor: shape=(3, 3), dtype=float32, numpy=\n",
       "array([[0., 0., 1.],\n",
       "       [0., 1., 0.],\n",
       "       [1., 0., 0.]], dtype=float32)>"
      ]
     },
     "execution_count": 14,
     "metadata": {},
     "output_type": "execute_result"
    }
   ],
   "source": [
    "P = tf.gather(tf.eye(3), p)\n",
    "P"
   ]
  },
  {
   "cell_type": "code",
   "execution_count": 16,
   "id": "cd52431f",
   "metadata": {},
   "outputs": [
    {
     "data": {
      "text/plain": [
       "<tf.Tensor: shape=(3, 3), dtype=float32, numpy=\n",
       "array([[ 1.,  4.,  1.],\n",
       "       [ 1.,  6., -1.],\n",
       "       [ 2., -1.,  2.]], dtype=float32)>"
      ]
     },
     "execution_count": 16,
     "metadata": {},
     "output_type": "execute_result"
    }
   ],
   "source": [
    "tf.linalg.lu_reconstruct(L_U, p)"
   ]
  },
  {
   "cell_type": "markdown",
   "id": "81f8dc1c",
   "metadata": {},
   "source": [
    "* check A=PLU"
   ]
  },
  {
   "cell_type": "code",
   "execution_count": 18,
   "id": "531236f9",
   "metadata": {},
   "outputs": [
    {
     "data": {
      "text/plain": [
       "<tf.Tensor: shape=(3, 3), dtype=float32, numpy=\n",
       "array([[ 1.,  4.,  1.],\n",
       "       [ 1.,  6., -1.],\n",
       "       [ 2., -1.,  2.]], dtype=float32)>"
      ]
     },
     "execution_count": 18,
     "metadata": {},
     "output_type": "execute_result"
    }
   ],
   "source": [
    "tf.matmul(P, tf.matmul(L, U))"
   ]
  },
  {
   "cell_type": "markdown",
   "id": "83fe63f4",
   "metadata": {},
   "source": [
    "## solve AX=b using PLUx=b"
   ]
  },
  {
   "cell_type": "code",
   "execution_count": 19,
   "id": "6aa0574d",
   "metadata": {},
   "outputs": [],
   "source": [
    "b = tf.constant([[7],[13],[5]], dtype=tf.float32)"
   ]
  },
  {
   "cell_type": "code",
   "execution_count": 20,
   "id": "681ed6af",
   "metadata": {},
   "outputs": [
    {
     "data": {
      "text/plain": [
       "<tf.Tensor: shape=(3, 1), dtype=float32, numpy=\n",
       "array([[ 5.],\n",
       "       [ 1.],\n",
       "       [-2.]], dtype=float32)>"
      ]
     },
     "execution_count": 20,
     "metadata": {},
     "output_type": "execute_result"
    }
   ],
   "source": [
    "tf.linalg.lu_solve(L_U, p, b)"
   ]
  },
  {
   "cell_type": "markdown",
   "id": "5e3f39fa",
   "metadata": {},
   "source": [
    "* calculate directly the same as above"
   ]
  },
  {
   "cell_type": "code",
   "execution_count": 21,
   "id": "553def48",
   "metadata": {},
   "outputs": [
    {
     "data": {
      "text/plain": [
       "<tf.Tensor: shape=(3, 1), dtype=float32, numpy=\n",
       "array([[ 5.       ],\n",
       "       [10.5      ],\n",
       "       [-2.7692308]], dtype=float32)>"
      ]
     },
     "execution_count": 21,
     "metadata": {},
     "output_type": "execute_result"
    }
   ],
   "source": [
    "y = tf.linalg.triangular_solve(L, tf.matmul(tf.transpose(P), b))\n",
    "y"
   ]
  },
  {
   "cell_type": "code",
   "execution_count": 22,
   "id": "79cbfb7c",
   "metadata": {},
   "outputs": [
    {
     "data": {
      "text/plain": [
       "<tf.Tensor: shape=(3, 1), dtype=float32, numpy=\n",
       "array([[ 5.],\n",
       "       [ 1.],\n",
       "       [-2.]], dtype=float32)>"
      ]
     },
     "execution_count": 22,
     "metadata": {},
     "output_type": "execute_result"
    }
   ],
   "source": [
    "x = tf.linalg.triangular_solve(U, y, lower=False)\n",
    "x"
   ]
  },
  {
   "cell_type": "markdown",
   "id": "1afc85e5",
   "metadata": {},
   "source": [
    "### stuff: pivots, calcuate det(A), rank(A)"
   ]
  },
  {
   "cell_type": "code",
   "execution_count": 23,
   "id": "8c35eb85",
   "metadata": {},
   "outputs": [
    {
     "data": {
      "text/plain": [
       "<tf.Tensor: shape=(3,), dtype=float32, numpy=array([2.       , 6.5      , 1.3846154], dtype=float32)>"
      ]
     },
     "execution_count": 23,
     "metadata": {},
     "output_type": "execute_result"
    }
   ],
   "source": [
    "D = tf.linalg.diag_part(L_U)\n",
    "D"
   ]
  },
  {
   "cell_type": "code",
   "execution_count": 24,
   "id": "3b40e509",
   "metadata": {},
   "outputs": [
    {
     "data": {
      "text/plain": [
       "<tf.Tensor: shape=(3, 3), dtype=float32, numpy=\n",
       "array([[ 2.       , -1.       ,  2.       ],\n",
       "       [ 0.5      ,  6.5      , -2.       ],\n",
       "       [ 0.5      ,  0.6923077,  1.3846154]], dtype=float32)>"
      ]
     },
     "execution_count": 24,
     "metadata": {},
     "output_type": "execute_result"
    }
   ],
   "source": [
    "L_U"
   ]
  },
  {
   "cell_type": "code",
   "execution_count": 25,
   "id": "c6692623",
   "metadata": {},
   "outputs": [
    {
     "data": {
      "text/plain": [
       "<tf.Tensor: shape=(), dtype=int64, numpy=3>"
      ]
     },
     "execution_count": 25,
     "metadata": {},
     "output_type": "execute_result"
    }
   ],
   "source": [
    "rank = tf.math.count_nonzero(D)\n",
    "rank"
   ]
  },
  {
   "cell_type": "code",
   "execution_count": 27,
   "id": "0d637db5",
   "metadata": {},
   "outputs": [
    {
     "data": {
      "text/plain": [
       "<tf.Tensor: shape=(), dtype=float32, numpy=18.0>"
      ]
     },
     "execution_count": 27,
     "metadata": {},
     "output_type": "execute_result"
    }
   ],
   "source": [
    "det_U = tf.reduce_prod(tf.linalg.diag_part(U))\n",
    "det_U"
   ]
  },
  {
   "cell_type": "code",
   "execution_count": 28,
   "id": "3f13e761",
   "metadata": {},
   "outputs": [
    {
     "data": {
      "text/plain": [
       "<tf.Tensor: shape=(), dtype=float32, numpy=18.000006>"
      ]
     },
     "execution_count": 28,
     "metadata": {},
     "output_type": "execute_result"
    }
   ],
   "source": [
    "tf.linalg.det(U)"
   ]
  },
  {
   "cell_type": "code",
   "execution_count": 29,
   "id": "de16fba0",
   "metadata": {},
   "outputs": [
    {
     "data": {
      "text/plain": [
       "<tf.Tensor: shape=(), dtype=float32, numpy=1.0>"
      ]
     },
     "execution_count": 29,
     "metadata": {},
     "output_type": "execute_result"
    }
   ],
   "source": [
    "det_L = tf.reduce_prod(tf.linalg.diag_part(L))\n",
    "det_L"
   ]
  },
  {
   "cell_type": "code",
   "execution_count": 30,
   "id": "1903d70e",
   "metadata": {},
   "outputs": [
    {
     "data": {
      "text/plain": [
       "<tf.Tensor: shape=(), dtype=float32, numpy=1.0>"
      ]
     },
     "execution_count": 30,
     "metadata": {},
     "output_type": "execute_result"
    }
   ],
   "source": [
    "tf.linalg.det(L)"
   ]
  },
  {
   "cell_type": "markdown",
   "id": "e1d974c8",
   "metadata": {},
   "source": [
    "## 선형대수 최소자승해 직선"
   ]
  },
  {
   "cell_type": "code",
   "execution_count": 31,
   "id": "e380ee77",
   "metadata": {},
   "outputs": [],
   "source": [
    "A = tf.constant([[0,1],[1,1],[2,1]],dtype=tf.float32)\n",
    "b = tf.constant([[6],[0],[0]], dtype=tf.float32)"
   ]
  },
  {
   "cell_type": "code",
   "execution_count": 32,
   "id": "f6ea15ce",
   "metadata": {},
   "outputs": [],
   "source": [
    "At = tf.transpose(A)"
   ]
  },
  {
   "cell_type": "code",
   "execution_count": 33,
   "id": "964c3d3b",
   "metadata": {},
   "outputs": [
    {
     "data": {
      "text/plain": [
       "<tf.Tensor: shape=(2, 2), dtype=float32, numpy=\n",
       "array([[5., 3.],\n",
       "       [3., 3.]], dtype=float32)>"
      ]
     },
     "execution_count": 33,
     "metadata": {},
     "output_type": "execute_result"
    }
   ],
   "source": [
    "C = tf.matmul(At, A)\n",
    "C"
   ]
  },
  {
   "cell_type": "code",
   "execution_count": 34,
   "id": "64ff6ffc",
   "metadata": {},
   "outputs": [
    {
     "data": {
      "text/plain": [
       "<tf.Tensor: shape=(2, 1), dtype=float32, numpy=\n",
       "array([[-3.0000005],\n",
       "       [ 5.0000005]], dtype=float32)>"
      ]
     },
     "execution_count": 34,
     "metadata": {},
     "output_type": "execute_result"
    }
   ],
   "source": [
    "x = tf.linalg.solve(C, tf.matmul(At, b))\n",
    "x"
   ]
  },
  {
   "cell_type": "markdown",
   "id": "7cca71ec",
   "metadata": {},
   "source": [
    "$(X^TX)\\beta = X^Ty$\n",
    "\n",
    "$\\hat{\\beta} = (X^TX)^{-1}X^Ty$"
   ]
  },
  {
   "cell_type": "code",
   "execution_count": 36,
   "id": "da91287a",
   "metadata": {},
   "outputs": [],
   "source": [
    "m, c = x.numpy()[:,0]"
   ]
  },
  {
   "cell_type": "code",
   "execution_count": 37,
   "id": "4d639726",
   "metadata": {},
   "outputs": [],
   "source": [
    "import matplotlib.pyplot as plt"
   ]
  },
  {
   "cell_type": "code",
   "execution_count": 41,
   "id": "53e8adb8",
   "metadata": {},
   "outputs": [
    {
     "data": {
      "text/plain": [
       "array([[0., 1.],\n",
       "       [1., 1.],\n",
       "       [2., 1.]], dtype=float32)"
      ]
     },
     "execution_count": 41,
     "metadata": {},
     "output_type": "execute_result"
    }
   ],
   "source": [
    "A.numpy()"
   ]
  },
  {
   "cell_type": "code",
   "execution_count": 45,
   "id": "74ea8503",
   "metadata": {},
   "outputs": [
    {
     "data": {
      "image/png": "[encoded data removed]",
      "text/plain": [
       "<Figure size 432x288 with 1 Axes>"
      ]
     },
     "metadata": {
      "needs_background": "light"
     },
     "output_type": "display_data"
    }
   ],
   "source": [
    "plt.gca().set_aspect('equal')\n",
    "plt.scatter(x=A.numpy()[:,0], y=b.numpy())\n",
    "t = tf.linspace(-1.0, 3.0, num=51)\n",
    "b1 = m * t + c\n",
    "plt.plot(t, b1, \"b-\")\n",
    "plt.axis([-1, 10, -1, 10])\n",
    "plt.show()"
   ]
  },
  {
   "cell_type": "code",
   "execution_count": 44,
   "id": "8671c65e",
   "metadata": {},
   "outputs": [
    {
     "data": {
      "text/plain": [
       "<matplotlib.collections.PathCollection at 0x21ab4c8c6d0>"
      ]
     },
     "execution_count": 44,
     "metadata": {},
     "output_type": "execute_result"
    },
    {
     "data": {
      "image/png": "[encoded data removed]",
      "text/plain": [
       "<Figure size 432x288 with 1 Axes>"
      ]
     },
     "metadata": {
      "needs_background": "light"
     },
     "output_type": "display_data"
    }
   ],
   "source": [
    "plt.scatter(x=A.numpy()[:,0], y=b.numpy())"
   ]
  },
  {
   "cell_type": "code",
   "execution_count": 46,
   "id": "e76760c9",
   "metadata": {},
   "outputs": [
    {
     "data": {
      "text/plain": [
       "<tf.Tensor: shape=(51,), dtype=float32, numpy=\n",
       "array([-1.        , -0.92      , -0.84000003, -0.76      , -0.68      ,\n",
       "       -0.6       , -0.52      , -0.44      , -0.36      , -0.28000003,\n",
       "       -0.20000005, -0.12      , -0.04000002,  0.03999996,  0.12      ,\n",
       "        0.19999993,  0.27999997,  0.36      ,  0.43999994,  0.52      ,\n",
       "        0.5999999 ,  0.67999995,  0.76      ,  0.8399999 ,  0.91999996,\n",
       "        1.        ,  1.0799999 ,  1.1599998 ,  1.24      ,  1.3199999 ,\n",
       "        1.3999999 ,  1.48      ,  1.56      ,  1.6399999 ,  1.72      ,\n",
       "        1.8       ,  1.8799999 ,  1.96      ,  2.04      ,  2.12      ,\n",
       "        2.1999998 ,  2.28      ,  2.36      ,  2.4399998 ,  2.52      ,\n",
       "        2.6       ,  2.6799998 ,  2.76      ,  2.84      ,  2.9199998 ,\n",
       "        3.        ], dtype=float32)>"
      ]
     },
     "execution_count": 46,
     "metadata": {},
     "output_type": "execute_result"
    }
   ],
   "source": [
    "tf.linspace(-1.0, 3.0, num=51)"
   ]
  },
  {
   "cell_type": "markdown",
   "id": "bdf2b97b",
   "metadata": {},
   "source": [
    "## 경사하강법"
   ]
  },
  {
   "cell_type": "markdown",
   "id": "dbf966c1",
   "metadata": {},
   "source": [
    "$f(x) = x^4 - 3x + x^3 + 2$"
   ]
  },
  {
   "cell_type": "code",
   "execution_count": 60,
   "id": "a7b00661",
   "metadata": {},
   "outputs": [],
   "source": [
    "def f(x):\n",
    "    return x**4 - 3*x**3 + 2"
   ]
  },
  {
   "cell_type": "code",
   "execution_count": 61,
   "id": "318b2d16",
   "metadata": {},
   "outputs": [],
   "source": [
    "def fprime(x):  # forward difference\n",
    "    h=0.001\n",
    "    return (f(x+h) - f(x)) / h "
   ]
  },
  {
   "cell_type": "code",
   "execution_count": 62,
   "id": "9525f484",
   "metadata": {},
   "outputs": [],
   "source": [
    "k = 0\n",
    "max_iters = 1000\n",
    "lr = 0.001\n",
    "tol = 1e-5\n",
    "\n",
    "x_old = 0.0\n",
    "x_new = 4.0\n",
    "x_list = [x_new]"
   ]
  },
  {
   "cell_type": "code",
   "execution_count": 63,
   "id": "a68acf7e",
   "metadata": {},
   "outputs": [],
   "source": [
    "x = tf.Variable(x_new, dtype=tf.float32)  # initial value"
   ]
  },
  {
   "cell_type": "code",
   "execution_count": 64,
   "id": "87f9fadf",
   "metadata": {},
   "outputs": [],
   "source": [
    "while abs(x_old - x_new)>tol and k<max_iters:\n",
    "    k += 1\n",
    "    x_old = x.numpy()\n",
    "    \n",
    "    step = lr*fprime(x)\n",
    "    x.assign_sub(step, read_value=False)  # update value by gradient devent method\n",
    "    x_new = x.numpy()\n",
    "    x_list.append(x_new)"
   ]
  },
  {
   "cell_type": "code",
   "execution_count": 65,
   "id": "6d65f1ae",
   "metadata": {},
   "outputs": [
    {
     "name": "stdout",
     "output_type": "stream",
     "text": [
      "k=317: f(2.250425338745117)=-6.54296691779366\n"
     ]
    }
   ],
   "source": [
    "print('k={}: f({})={}'.format(k, x_new, f(x_new)))"
   ]
  },
  {
   "cell_type": "code",
   "execution_count": 66,
   "id": "b4d3b6d9",
   "metadata": {},
   "outputs": [
    {
     "name": "stdout",
     "output_type": "stream",
     "text": [
      "[f(0), f(9/4), f(-2), f(4)]: [2, -6.54296875, 42, 66]\n"
     ]
    }
   ],
   "source": [
    "# check the solution\n",
    "print(\"[f(0), f(9/4), f(-2), f(4)]:\", [f(0), f(9/4), f(-2), f(4)])"
   ]
  },
  {
   "cell_type": "code",
   "execution_count": 67,
   "id": "642ac93d",
   "metadata": {},
   "outputs": [
    {
     "data": {
      "text/plain": [
       "[<matplotlib.lines.Line2D at 0x21ab5120fa0>]"
      ]
     },
     "execution_count": 67,
     "metadata": {},
     "output_type": "execute_result"
    },
    {
     "data": {
      "image/png": "[encoded data removed]",
      "text/plain": [
       "<Figure size 432x288 with 1 Axes>"
      ]
     },
     "metadata": {
      "needs_background": "light"
     },
     "output_type": "display_data"
    }
   ],
   "source": [
    "xs = tf.linspace(-2.0, 4.0, num=101)\n",
    "ys = f(xs)\n",
    "plt.plot(xs, ys, 'r-')"
   ]
  },
  {
   "cell_type": "code",
   "execution_count": 69,
   "id": "805b5f54",
   "metadata": {},
   "outputs": [],
   "source": [
    "import numpy as np"
   ]
  },
  {
   "cell_type": "code",
   "execution_count": 71,
   "id": "eeff0b07",
   "metadata": {},
   "outputs": [
    {
     "data": {
      "image/png": "[encoded data removed]",
      "text/plain": [
       "<Figure size 432x288 with 1 Axes>"
      ]
     },
     "metadata": {
      "needs_background": "light"
     },
     "output_type": "display_data"
    }
   ],
   "source": [
    "x_list = tf.constant(x_list, dtype=tf.float32)\n",
    "y_list = f(x_list)\n",
    "plt.plot(x_list, y_list)\n",
    "plt.show()"
   ]
  },
  {
   "cell_type": "code",
   "execution_count": 72,
   "id": "8a1f8e63",
   "metadata": {},
   "outputs": [
    {
     "data": {
      "image/png": "[encoded data removed]",
      "text/plain": [
       "<Figure size 432x288 with 1 Axes>"
      ]
     },
     "metadata": {
      "needs_background": "light"
     },
     "output_type": "display_data"
    }
   ],
   "source": [
    "xs = tf.linspace(-2.0, 4.0, num=101)\n",
    "ys = f(xs)\n",
    "plt.plot(xs, ys, 'b-')\n",
    "x_list = tf.constant(x_list, dtype=tf.float32)\n",
    "y_list = f(x_list)\n",
    "plt.plot(x_list, y_list, 'ro')\n",
    "plt.show()"
   ]
  },
  {
   "cell_type": "code",
   "execution_count": null,
   "id": "951d57bb",
   "metadata": {},
   "outputs": [],
   "source": []
  }
 ],
 "metadata": {
  "kernelspec": {
   "display_name": "Python 3 (ipykernel)",
   "language": "python",
   "name": "python3"
  },
  "language_info": {
   "codemirror_mode": {
    "name": "ipython",
    "version": 3
   },
   "file_extension": ".py",
   "mimetype": "text/x-python",
   "name": "python",
   "nbconvert_exporter": "python",
   "pygments_lexer": "ipython3",
   "version": "3.9.12"
  }
 },
 "nbformat": 4,
 "nbformat_minor": 5
}
