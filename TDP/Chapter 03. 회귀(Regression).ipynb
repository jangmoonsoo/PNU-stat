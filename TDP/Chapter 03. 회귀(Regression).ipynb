{
 "cells": [
  {
   "cell_type": "markdown",
   "id": "517d86a0",
   "metadata": {},
   "source": [
    "> 회귀는 훈련 데이터의 오차를 최소화하는 모델을 찾는 방법. 즉, 데이터에 맞는 모델을 찾는 문제임.\n",
    "모델이 직선, 평면 등과 같이 선형이면 선형회귀\n",
    "\n",
    "> Training 데이터는 (X,t)이며, X는 입력값, t는 목표값\n",
    "\n",
    "> 모델 파라미터는 (W,b)이며 가중치 W와 bias인 b\n",
    "\n",
    "$y = WX + b$"
   ]
  },
  {
   "cell_type": "markdown",
   "id": "a153b4a5",
   "metadata": {},
   "source": [
    "## Step 05. 평균 제곱 오차 손실함수"
   ]
  },
  {
   "cell_type": "code",
   "execution_count": 1,
   "id": "ae92abdc",
   "metadata": {},
   "outputs": [],
   "source": [
    "import numpy as np"
   ]
  },
  {
   "cell_type": "code",
   "execution_count": 2,
   "id": "b7c86f1f",
   "metadata": {},
   "outputs": [],
   "source": [
    "def MSE(y, t):\n",
    "    return np.sum((y-t)**2)/t.size"
   ]
  },
  {
   "cell_type": "code",
   "execution_count": 3,
   "id": "3b13794d",
   "metadata": {},
   "outputs": [],
   "source": [
    "t = np.array([1, 2, 3, 4])\n",
    "y1 = np.array([0.5, 1, 1.5, 2])"
   ]
  },
  {
   "cell_type": "code",
   "execution_count": 4,
   "id": "dbc6452a",
   "metadata": {},
   "outputs": [
    {
     "name": "stdout",
     "output_type": "stream",
     "text": [
      "1.875\n"
     ]
    }
   ],
   "source": [
    "print(MSE(y1, t))"
   ]
  },
  {
   "cell_type": "code",
   "execution_count": 5,
   "id": "35fbddc2",
   "metadata": {},
   "outputs": [
    {
     "name": "stdout",
     "output_type": "stream",
     "text": [
      "0.25\n"
     ]
    }
   ],
   "source": [
    "y2 = np.array([0.5, 1.5, 2.5, 3.5])\n",
    "print(MSE(y2, t))"
   ]
  },
  {
   "cell_type": "code",
   "execution_count": 2,
   "id": "5c8949ff",
   "metadata": {},
   "outputs": [],
   "source": [
    "import tensorflow as tf"
   ]
  },
  {
   "cell_type": "code",
   "execution_count": 17,
   "id": "2dd02d57",
   "metadata": {},
   "outputs": [],
   "source": [
    "def MSE(y, t):\n",
    "    return tf.reduce_mean(tf.square(y,t))"
   ]
  },
  {
   "cell_type": "code",
   "execution_count": 21,
   "id": "c0b6da62",
   "metadata": {},
   "outputs": [
    {
     "data": {
      "text/plain": [
       "<tf.Tensor: shape=(), dtype=int32, numpy=2>"
      ]
     },
     "execution_count": 21,
     "metadata": {},
     "output_type": "execute_result"
    }
   ],
   "source": [
    "t = np.array([1, 2, 3, 4])\n",
    "y1 = np.array([0.5, 1, 1.5, 2])\n",
    "\n",
    "    # tensor로 convert 안해도 돌아감\n",
    "# t = tf.convert_to_tensor(t)\n",
    "# y1 = tf.convert_to_tensor(y1)\n",
    "MSE(y1, t)"
   ]
  },
  {
   "cell_type": "code",
   "execution_count": 22,
   "id": "b3be63e8",
   "metadata": {},
   "outputs": [
    {
     "data": {
      "text/plain": [
       "<tf.Tensor: shape=(), dtype=int32, numpy=2>"
      ]
     },
     "execution_count": 22,
     "metadata": {},
     "output_type": "execute_result"
    }
   ],
   "source": [
    "# tf.keras.losses.MeanSquaredError()\n",
    "\n",
    "MSE = tf.keras.losses.MeanSquaredError()\n",
    "MSE(y1, t)"
   ]
  },
  {
   "cell_type": "markdown",
   "id": "6ea7c7c0",
   "metadata": {},
   "source": [
    "## Step 06. 넘파이 단순 선형 회귀\n",
    "* 경사하강법 구현"
   ]
  },
  {
   "cell_type": "markdown",
   "id": "0e5a5e86",
   "metadata": {},
   "source": [
    "### 1. 경사하강법\n",
    "* $p_{t+1} = p_t -lr \\Delta E(w,b)$"
   ]
  },
  {
   "cell_type": "code",
   "execution_count": 3,
   "id": "8a01c8f4",
   "metadata": {},
   "outputs": [],
   "source": [
    "def MSE(y, t):\n",
    "    return np.sum((t-y)**2)/t.size"
   ]
  },
  {
   "cell_type": "code",
   "execution_count": 4,
   "id": "480ace1e",
   "metadata": {},
   "outputs": [
    {
     "name": "stdout",
     "output_type": "stream",
     "text": [
      "[ 0  1  2  3  4  5  6  7  8  9 10 11]\n",
      "[ 0  1  2  3  4  5  6  7  8  9 10 11]\n"
     ]
    }
   ],
   "source": [
    "x = np.arange(12)\n",
    "t = np.arange(12)\n",
    "print(x) ; print(t)"
   ]
  },
  {
   "cell_type": "code",
   "execution_count": 5,
   "id": "829f9388",
   "metadata": {},
   "outputs": [],
   "source": [
    "w = 0.5\n",
    "b = 0\n",
    "lr = 0.001\n",
    "\n",
    "loss_list = []\n",
    "\n",
    "for i in range(200):\n",
    "    y = w*x + b\n",
    "    dW = np.sum((y- t)*x) / (2*t.size)\n",
    "    dB = np.sum((y-t)) / (2*t.size)\n",
    "    \n",
    "    w = w - lr*dW\n",
    "    b = b - lr*dB\n",
    "    \n",
    "    y = w*x + b\n",
    "    loss = MSE(y, t)\n",
    "    loss_list.append(loss)\n",
    "    "
   ]
  },
  {
   "cell_type": "code",
   "execution_count": 7,
   "id": "4768c242",
   "metadata": {},
   "outputs": [
    {
     "name": "stdout",
     "output_type": "stream",
     "text": [
      "0.061923658759418715\n",
      "0.9853219999548573\n",
      "0.0029210114519716197\n"
     ]
    }
   ],
   "source": [
    "print(b) ; print(w) ; print(loss)"
   ]
  },
  {
   "cell_type": "code",
   "execution_count": 8,
   "id": "63ab496e",
   "metadata": {},
   "outputs": [
    {
     "name": "stdout",
     "output_type": "stream",
     "text": [
      "w=0.9853. b=0.0619, loss=0.0029\n"
     ]
    }
   ],
   "source": [
    "print(\"w={:>.4f}. b={:.4f}, loss={:>.4f}\".format(w, b, loss))"
   ]
  },
  {
   "cell_type": "code",
   "execution_count": 11,
   "id": "c1bf8bee",
   "metadata": {},
   "outputs": [],
   "source": [
    "w = 2\n",
    "b = 1\n",
    "lr = 0.01\n",
    "\n",
    "loss_list2 = []\n",
    "\n",
    "for i in range(200):\n",
    "    y = w*x + b\n",
    "    \n",
    "    dW = np.sum((y-t)*x) / (2*t.size)\n",
    "    dB = np.sum((y-t)) / (2*t.size)\n",
    "    \n",
    "    w -= lr*dW\n",
    "    b -= lr*dB\n",
    "    y = w*x + b\n",
    "    \n",
    "    loss2 = MSE(y,t)\n",
    "    loss_list2.append(loss2)"
   ]
  },
  {
   "cell_type": "code",
   "execution_count": 13,
   "id": "9c92f109",
   "metadata": {},
   "outputs": [
    {
     "name": "stdout",
     "output_type": "stream",
     "text": [
      "w=0.9151, b=0.6467, loss=0.1182\n"
     ]
    }
   ],
   "source": [
    "print(\"w={:>.4f}, b={:>.4f}, loss={:>.4f}\".format(w,b,loss2))"
   ]
  },
  {
   "cell_type": "code",
   "execution_count": 23,
   "id": "a2611cdf",
   "metadata": {},
   "outputs": [
    {
     "data": {
      "text/plain": [
       "[<matplotlib.lines.Line2D at 0x1fe91026d90>]"
      ]
     },
     "execution_count": 23,
     "metadata": {},
     "output_type": "execute_result"
    },
    {
     "data": {
      "image/png": "[encoded data removed]",
      "text/plain": [
       "<Figure size 1080x360 with 2 Axes>"
      ]
     },
     "metadata": {
      "needs_background": "light"
     },
     "output_type": "display_data"
    }
   ],
   "source": [
    "import matplotlib.pyplot as plt\n",
    "%matplotlib inline\n",
    "\n",
    "plt.figure(figsize=(15,5))\n",
    "plt.subplot(121)\n",
    "plt.plot(loss_list)\n",
    "plt.subplot(122)\n",
    "plt.plot(loss_list2)\n"
   ]
  },
  {
   "cell_type": "markdown",
   "id": "61d5ec6b",
   "metadata": {},
   "source": [
    "### 2. 확률적 경사하강법\n",
    "각 에폭에서 훈련 데이터를 모두 사용하지 않고, 일부만 사용해서 가중치를 업데이트 하는 방식.\n",
    "\n",
    "일정 개수 이상의 배치크기로 샘플링하는 미니배치 학습으로 구현"
   ]
  },
  {
   "cell_type": "code",
   "execution_count": 24,
   "id": "e87d7aed",
   "metadata": {},
   "outputs": [],
   "source": [
    "import numpy as np\n",
    "import matplotlib.pyplot as plt"
   ]
  },
  {
   "cell_type": "code",
   "execution_count": 25,
   "id": "258cd77b",
   "metadata": {},
   "outputs": [],
   "source": [
    "def MSE(y,t):\n",
    "    return np.sum((y-t)**2) / (t.size)"
   ]
  },
  {
   "cell_type": "code",
   "execution_count": 28,
   "id": "a2469a9c",
   "metadata": {},
   "outputs": [
    {
     "name": "stdout",
     "output_type": "stream",
     "text": [
      "Epoch=0, w=0.5395, b=0.0047, loss=4.443813898792699\n",
      "Epoch=10, w=0.7699, b=0.0338, loss=1.0588615530560634\n",
      "Epoch=20, w=0.8794, b=0.0471, loss=0.04219599747920227\n",
      "Epoch=30, w=0.9357, b=0.0541, loss=0.04511686869893269\n",
      "Epoch=40, w=0.9617, b=0.0573, loss=0.005768133682369174\n",
      "Epoch=50, w=0.9770, b=0.0590, loss=0.002222886817310385\n",
      "Epoch=60, w=0.9833, b=0.0596, loss=0.0013038498783409834\n",
      "Epoch=70, w=0.9873, b=0.0599, loss=0.00034081701576090125\n",
      "Epoch=80, w=0.9897, b=0.0600, loss=0.0007028326054001532\n",
      "Epoch=90, w=0.9904, b=0.0598, loss=0.00022395454574745033\n"
     ]
    }
   ],
   "source": [
    "x = np.arange(12)\n",
    "t = np.arange(12)\n",
    "\n",
    "w = 0.5\n",
    "b = 0\n",
    "lr = 0.001\n",
    "loss_list = []\n",
    "\n",
    "train_size = t.size\n",
    "batch_size = 4\n",
    "K = train_size // batch_size\n",
    "\n",
    "for i in range(100):\n",
    "    loss = 0\n",
    "    for step in range(K):\n",
    "        mask = np.random.choice(train_size, batch_size)\n",
    "        x_batch = x[mask]\n",
    "        t_batch = t[mask]\n",
    "        \n",
    "        y = w*x_batch + b\n",
    "        dW = np.sum((y-t_batch)*x_batch) / (2*t_batch.size)\n",
    "        dB = np.sum((y-t_batch)) / (2*t_batch.size)\n",
    "        \n",
    "        w -= lr*dW\n",
    "        b -= lr*dB\n",
    "        y = w*x_batch + b\n",
    "        \n",
    "        loss = MSE(y,t_batch)\n",
    "    loss /=K\n",
    "    loss_list.append(loss)\n",
    "    if not i %10:\n",
    "        print(\"Epoch={}, w={:>.4f}, b={:>.4f}, loss={}\".format(i, w, b, loss))"
   ]
  },
  {
   "cell_type": "code",
   "execution_count": 26,
   "id": "86091cf0",
   "metadata": {},
   "outputs": [
    {
     "data": {
      "text/plain": [
       "array([8, 3, 2, 1])"
      ]
     },
     "execution_count": 26,
     "metadata": {},
     "output_type": "execute_result"
    }
   ],
   "source": [
    "np.random.choice(12,4)"
   ]
  },
  {
   "cell_type": "markdown",
   "id": "f80f4102",
   "metadata": {},
   "source": [
    "### 3. 자동 미분 계산\n",
    "텐서플로의 자동 미분 계산을 사용\n",
    "\n",
    "* tf.GradientTape : 연산을 테이프에 기록\n",
    "* tf.GradientTape.dradient() : 기록된 연산의 미분을 자동으로 계산\n",
    "\n",
    "테이프에 기록하는 연산은 텐서 변수여야 하며, 상수는 테이프에서 추적할 수 있도록 **tf.GradientTape.watch()**로 설정\n",
    "\n",
    "GradientTape.gradient()는 한번 호출하면 테이프에 기록된 자원이 해제되므로, 자원을 유지하여 한 번이상 호출하려면 **tf.GradientTape(presistent = True)**로 그래디언트 테이프를 생성"
   ]
  },
  {
   "cell_type": "code",
   "execution_count": 29,
   "id": "0be0cacb",
   "metadata": {},
   "outputs": [],
   "source": [
    "import tensorflow as tf"
   ]
  },
  {
   "cell_type": "code",
   "execution_count": 30,
   "id": "196a02ec",
   "metadata": {},
   "outputs": [],
   "source": [
    "x = tf.Variable(2.0)\n",
    "y = tf.Variable(3.0)"
   ]
  },
  {
   "cell_type": "code",
   "execution_count": 31,
   "id": "3fc110a1",
   "metadata": {},
   "outputs": [],
   "source": [
    "with tf.GradientTape() as tape:\n",
    "    z = x**2 + y**2\n",
    "dx, dy = tape.gradient(z, [x,y])"
   ]
  },
  {
   "cell_type": "code",
   "execution_count": 32,
   "id": "21d49cea",
   "metadata": {},
   "outputs": [
    {
     "name": "stdout",
     "output_type": "stream",
     "text": [
      "dx= 4.0\n",
      "dy= 6.0\n"
     ]
    }
   ],
   "source": [
    "print('dx=', dx.numpy())\n",
    "print(\"dy=\", dy.numpy())"
   ]
  },
  {
   "cell_type": "markdown",
   "id": "6d336781",
   "metadata": {},
   "source": [
    "$z(x,y)=x^2 + y^2$\n",
    "\n",
    "$dx = 2x$, $dy = 2y$  at  $x=2, y=3$\n",
    "\n",
    "$dx = 2*2=4$  \n",
    "$dy = 2*3=6$"
   ]
  },
  {
   "cell_type": "code",
   "execution_count": 38,
   "id": "90a35378",
   "metadata": {},
   "outputs": [],
   "source": [
    "x = tf.Variable(2.0)\n",
    "y = tf.Variable(3.0)\n",
    "\n",
    "with tf.GradientTape(watch_accessed_variables=False) as tape:\n",
    "    tape.watch(x)\n",
    "    tape.watch(y)\n",
    "    z = x**2 + y**2\n",
    "\n",
    "dx, dy = tape.gradient(z, [x,y])"
   ]
  },
  {
   "cell_type": "code",
   "execution_count": 39,
   "id": "f26f5727",
   "metadata": {},
   "outputs": [
    {
     "name": "stdout",
     "output_type": "stream",
     "text": [
      "dx= 4.0\n",
      "dy= 6.0\n"
     ]
    }
   ],
   "source": [
    "print('dx=', dx.numpy())\n",
    "print(\"dy=\", dy.numpy())"
   ]
  },
  {
   "cell_type": "code",
   "execution_count": 40,
   "id": "9f87f9bf",
   "metadata": {},
   "outputs": [],
   "source": [
    "x = tf.Variable(2.0)\n",
    "y = tf.Variable(3.0)\n",
    "\n",
    "with tf.GradientTape(watch_accessed_variables=False) as tape:\n",
    "#     tape.watch(x)\n",
    "#     tape.watch(y)\n",
    "    z = x**2 + y**2\n",
    "\n",
    "dx, dy = tape.gradient(z, [x,y])"
   ]
  },
  {
   "cell_type": "code",
   "execution_count": 41,
   "id": "b6acee48",
   "metadata": {},
   "outputs": [
    {
     "ename": "AttributeError",
     "evalue": "'NoneType' object has no attribute 'numpy'",
     "output_type": "error",
     "traceback": [
      "\u001b[1;31m---------------------------------------------------------------------------\u001b[0m",
      "\u001b[1;31mAttributeError\u001b[0m                            Traceback (most recent call last)",
      "Input \u001b[1;32mIn [41]\u001b[0m, in \u001b[0;36m<cell line: 1>\u001b[1;34m()\u001b[0m\n\u001b[1;32m----> 1\u001b[0m \u001b[38;5;28mprint\u001b[39m(\u001b[38;5;124m'\u001b[39m\u001b[38;5;124mdx=\u001b[39m\u001b[38;5;124m'\u001b[39m, \u001b[43mdx\u001b[49m\u001b[38;5;241;43m.\u001b[39;49m\u001b[43mnumpy\u001b[49m())\n\u001b[0;32m      2\u001b[0m \u001b[38;5;28mprint\u001b[39m(\u001b[38;5;124m\"\u001b[39m\u001b[38;5;124mdy=\u001b[39m\u001b[38;5;124m\"\u001b[39m, dy\u001b[38;5;241m.\u001b[39mnumpy())\n",
      "\u001b[1;31mAttributeError\u001b[0m: 'NoneType' object has no attribute 'numpy'"
     ]
    }
   ],
   "source": [
    "print('dx=', dx.numpy())\n",
    "print(\"dy=\", dy.numpy())"
   ]
  },
  {
   "cell_type": "markdown",
   "id": "e01cc83e",
   "metadata": {},
   "source": [
    "tape.watch를 지정하지 않으면 dx, dy는 None로 저장되기 때문에 호출이 안됨"
   ]
  },
  {
   "cell_type": "code",
   "execution_count": 42,
   "id": "b8b4ae3d",
   "metadata": {},
   "outputs": [
    {
     "name": "stdout",
     "output_type": "stream",
     "text": [
      "dy= 27.0\n",
      "dy2= 18.0\n"
     ]
    }
   ],
   "source": [
    "## 자동 미분 계산4 : 2차미분\n",
    "x = tf.Variable(3.0)\n",
    "\n",
    "with tf.GradientTape() as tape2:\n",
    "    with tf.GradientTape() as tape1:\n",
    "        y = x**3\n",
    "        dy = tape1.gradient(y,x)\n",
    "    dy2 = tape2.gradient(dy,x)\n",
    "print('dy=', dy.numpy())\n",
    "print('dy2=', dy2.numpy())"
   ]
  },
  {
   "cell_type": "markdown",
   "id": "f9897e9e",
   "metadata": {},
   "source": [
    "tf.GradientTape()로 그래디언트 테이프 tape2 내에서 tape1을 생성하고, 수식 $y=x^3$을 tape1에 기록\n",
    "\n",
    "dy=tape1.graident(y, x)는 tape1으로 y에대한 x의 미분인 dy를 계산 $dy=3x^2$"
   ]
  },
  {
   "cell_type": "markdown",
   "id": "2964bdcf",
   "metadata": {},
   "source": [
    "## Step 08. 텐서플로 단순 선형 회귀\n",
    "\n",
    "$y=wx + b$"
   ]
  },
  {
   "cell_type": "code",
   "execution_count": 43,
   "id": "163a1c35",
   "metadata": {},
   "outputs": [],
   "source": [
    "import tensorflow as tf\n",
    "import numpy as np\n",
    "import matplotlib.pyplot as plt"
   ]
  },
  {
   "cell_type": "code",
   "execution_count": 46,
   "id": "7f64b5cc",
   "metadata": {},
   "outputs": [],
   "source": [
    "x = np.arange(12)\n",
    "t = np.arange(12)\n",
    "\n",
    "w = tf.Variable(0.5)\n",
    "b = tf.Variable(0.0)\n",
    "\n",
    "lr = 0.001\n",
    "\n",
    "loss_list = []\n",
    "\n",
    "for epoch in range(100):\n",
    "    with tf.GradientTape() as tape:\n",
    "        y = x*w + b\n",
    "        loss = tf.reduce_mean(tf.square(y-t))\n",
    "    loss_list.append(loss.numpy())\n",
    "    \n",
    "    dW, dB = tape.gradient(loss, [w,b])\n",
    "    w.assign_sub(lr*dW)\n",
    "    b.assign_sub(lr*dB)"
   ]
  },
  {
   "cell_type": "code",
   "execution_count": 48,
   "id": "c677555c",
   "metadata": {},
   "outputs": [
    {
     "data": {
      "text/plain": [
       "[<matplotlib.lines.Line2D at 0x1fe8b5cbb20>]"
      ]
     },
     "execution_count": 48,
     "metadata": {},
     "output_type": "execute_result"
    },
    {
     "data": {
      "image/png": "[encoded data removed]",
      "text/plain": [
       "<Figure size 432x288 with 1 Axes>"
      ]
     },
     "metadata": {
      "needs_background": "light"
     },
     "output_type": "display_data"
    }
   ],
   "source": [
    "plt.plot(loss_list)"
   ]
  },
  {
   "cell_type": "markdown",
   "id": "87495a35",
   "metadata": {},
   "source": [
    "* w=0.5, b=0.0, lr=0.001로 100번 반복하여 학습시킴\n",
    "* tf.GradientTape()로 tape를 생성하고, $y=x*w+b$와 loss = tf.reduce_mean(tf.square(y-t))을 tape에 기록하고, dW, dB를 자동으로 계산\n",
    "* w.assign_sub(lr\\*dW), b.assign_sub(lr\\*dB)로 가중치 업데이트"
   ]
  },
  {
   "cell_type": "code",
   "execution_count": 49,
   "id": "8e54f3d5",
   "metadata": {},
   "outputs": [],
   "source": [
    "# 미니배치에 의한 확률적 경사하강법\n",
    "x = np.arange(12)\n",
    "t = np.arange(12)\n",
    "\n",
    "w = tf.Variable(0.5)\n",
    "b = tf.Variable(0.0)\n",
    "lr = 0.001\n",
    "\n",
    "loss_list = []\n",
    "\n",
    "train_size = x.size\n",
    "batch_size = 4\n",
    "K = train_size // batch_size\n",
    "\n",
    "\n",
    "for epoch in range(100):\n",
    "    batch_loss = 0.0\n",
    "    for step in range(K):\n",
    "        mask = np.random.choice(train_size, batch_size)\n",
    "        x_batch = x[mask]\n",
    "        t_batch = t[mask]\n",
    "        \n",
    "        with tf.GradientTape() as tape:\n",
    "            y = x_batch * w + b\n",
    "            loss = tf.reduce_mean(tf.square(y-t_batch))\n",
    "            \n",
    "        dW, dB = tape.gradient(loss, [w,b])\n",
    "        w.assign_sub(lr*dW)\n",
    "        b.assign_sub(lr*dB)\n",
    "        \n",
    "        batch_loss += loss.numpy()\n",
    "    batch_loss /= K\n",
    "    loss_list.append(batch_loss)"
   ]
  },
  {
   "cell_type": "code",
   "execution_count": 50,
   "id": "374efd4e",
   "metadata": {},
   "outputs": [
    {
     "data": {
      "text/plain": [
       "[<matplotlib.lines.Line2D at 0x1fe9f2da070>]"
      ]
     },
     "execution_count": 50,
     "metadata": {},
     "output_type": "execute_result"
    },
    {
     "data": {
      "image/png": "[encoded data removed]",
      "text/plain": [
       "<Figure size 432x288 with 1 Axes>"
      ]
     },
     "metadata": {
      "needs_background": "light"
     },
     "output_type": "display_data"
    }
   ],
   "source": [
    "# lr = 0.001\n",
    "plt.plot(loss_list)"
   ]
  },
  {
   "cell_type": "code",
   "execution_count": 51,
   "id": "f2d8a72a",
   "metadata": {},
   "outputs": [],
   "source": [
    "# 미니배치에 의한 확률적 경사하강법\n",
    "x = np.arange(12)\n",
    "t = np.arange(12)\n",
    "\n",
    "w = tf.Variable(0.5)\n",
    "b = tf.Variable(0.0)\n",
    "lr = 0.0001\n",
    "\n",
    "loss_list = []\n",
    "\n",
    "train_size = x.size\n",
    "batch_size = 4\n",
    "K = train_size // batch_size\n",
    "\n",
    "\n",
    "for epoch in range(100):\n",
    "    batch_loss = 0.0\n",
    "    for step in range(K):\n",
    "        mask = np.random.choice(train_size, batch_size)\n",
    "        x_batch = x[mask]\n",
    "        t_batch = t[mask]\n",
    "        \n",
    "        with tf.GradientTape() as tape:\n",
    "            y = x_batch * w + b\n",
    "            loss = tf.reduce_mean(tf.square(y-t_batch))\n",
    "            \n",
    "        dW, dB = tape.gradient(loss, [w,b])\n",
    "        w.assign_sub(lr*dW)\n",
    "        b.assign_sub(lr*dB)\n",
    "        \n",
    "        batch_loss += loss.numpy()\n",
    "    batch_loss /= K\n",
    "    loss_list.append(batch_loss)"
   ]
  },
  {
   "cell_type": "code",
   "execution_count": 53,
   "id": "906db996",
   "metadata": {},
   "outputs": [
    {
     "data": {
      "text/plain": [
       "[<matplotlib.lines.Line2D at 0x1fe982ce7c0>]"
      ]
     },
     "execution_count": 53,
     "metadata": {},
     "output_type": "execute_result"
    },
    {
     "data": {
      "image/png": "[encoded data removed]",
      "text/plain": [
       "<Figure size 432x288 with 1 Axes>"
      ]
     },
     "metadata": {
      "needs_background": "light"
     },
     "output_type": "display_data"
    }
   ],
   "source": [
    "# lr = 0.0001\n",
    "plt.plot(loss_list)"
   ]
  },
  {
   "cell_type": "markdown",
   "id": "1f3c1521",
   "metadata": {},
   "source": [
    "## 09. 다변수 선형 회귀\n",
    "$y = b + w_1x_1 + w_2x_2 + \\cdots + w_nx_n$\n",
    "\n",
    "$y = WX + b$\n",
    "\n",
    "$W = [w_1, \\cdots, w_n]$, $X = [x_1, \\cdots, x_n]$"
   ]
  },
  {
   "cell_type": "code",
   "execution_count": 54,
   "id": "01827ebb",
   "metadata": {},
   "outputs": [],
   "source": [
    "import numpy as np\n",
    "import tensorflow as tf"
   ]
  },
  {
   "cell_type": "code",
   "execution_count": 56,
   "id": "33fc3595",
   "metadata": {},
   "outputs": [],
   "source": [
    "def MSE(y,t):\n",
    "    return tf.reduce_mean(tf.square(y-t))\n",
    "\n",
    "train_data = np.array([\n",
    "    [1,0,4],\n",
    "    [2,0,5],\n",
    "    [3,0,6],\n",
    "    [4,0,7],\n",
    "    [1,1,6],\n",
    "    [2,1,7],\n",
    "    [3,1,8],\n",
    "    [4,1,9]],dtype=np.float32)"
   ]
  },
  {
   "cell_type": "code",
   "execution_count": 59,
   "id": "03dce312",
   "metadata": {},
   "outputs": [
    {
     "name": "stdout",
     "output_type": "stream",
     "text": [
      "X= [[1. 0.]\n",
      " [2. 0.]\n",
      " [3. 0.]\n",
      " [4. 0.]\n",
      " [1. 1.]\n",
      " [2. 1.]\n",
      " [3. 1.]\n",
      " [4. 1.]]\n",
      "t= [[4.]\n",
      " [5.]\n",
      " [6.]\n",
      " [7.]\n",
      " [6.]\n",
      " [7.]\n",
      " [8.]\n",
      " [9.]]\n"
     ]
    }
   ],
   "source": [
    "X = train_data[:,:-1]\n",
    "t = train_data[:,-1:]\n",
    "print(\"X=\",X)\n",
    "print(\"t=\",t)"
   ]
  },
  {
   "cell_type": "code",
   "execution_count": 64,
   "id": "2c6d19a5",
   "metadata": {},
   "outputs": [],
   "source": [
    "tf.random.set_seed(1)\n",
    "W = tf.Variable(tf.random.normal(shape=[2,1]),)\n",
    "b = tf.Variable(tf.random.normal(shape=[1]))"
   ]
  },
  {
   "cell_type": "code",
   "execution_count": 68,
   "id": "db603bab",
   "metadata": {},
   "outputs": [],
   "source": [
    "y = tf.matmul(X,W) + b"
   ]
  },
  {
   "cell_type": "code",
   "execution_count": 69,
   "id": "9df5190d",
   "metadata": {},
   "outputs": [],
   "source": [
    "loss=MSE(y,t)"
   ]
  },
  {
   "cell_type": "code",
   "execution_count": 70,
   "id": "eca44d2c",
   "metadata": {},
   "outputs": [
    {
     "data": {
      "text/plain": [
       "<tf.Tensor: shape=(), dtype=float32, numpy=77.48386>"
      ]
     },
     "execution_count": 70,
     "metadata": {},
     "output_type": "execute_result"
    }
   ],
   "source": [
    "loss"
   ]
  },
  {
   "cell_type": "code",
   "execution_count": 71,
   "id": "2dde48d3",
   "metadata": {},
   "outputs": [],
   "source": [
    "# 2변수 선형회귀\n",
    "import numpy as np\n",
    "import tensorflow as tf\n",
    "import matplotlib.pyplot as plt\n",
    "\n",
    "MSE = tf.keras.losses.MeanSquaredError()"
   ]
  },
  {
   "cell_type": "code",
   "execution_count": 72,
   "id": "326baf8a",
   "metadata": {},
   "outputs": [],
   "source": [
    "lr = 0.01\n",
    "loss_list = []\n",
    "\n",
    "for epoch in range(1000):\n",
    "    with tf.GradientTape() as tape:\n",
    "        y = tf.matmul(X, W)+b\n",
    "        loss = MSE(y,t)\n",
    "    loss_list.append(loss.numpy())\n",
    "    \n",
    "    dW, dB = tape.gradient(loss, [W,b])\n",
    "    W.assign_sub(lr*dW)\n",
    "    b.assign_sub(lr*dB)\n",
    "    "
   ]
  },
  {
   "cell_type": "code",
   "execution_count": 73,
   "id": "93649134",
   "metadata": {},
   "outputs": [
    {
     "data": {
      "text/plain": [
       "[<matplotlib.lines.Line2D at 0x1ff2a5c32b0>]"
      ]
     },
     "execution_count": 73,
     "metadata": {},
     "output_type": "execute_result"
    },
    {
     "data": {
      "image/png": "[encoded data removed]",
      "text/plain": [
       "<Figure size 432x288 with 1 Axes>"
      ]
     },
     "metadata": {
      "needs_background": "light"
     },
     "output_type": "display_data"
    }
   ],
   "source": [
    "plt.plot(loss_list)"
   ]
  },
  {
   "cell_type": "code",
   "execution_count": 75,
   "id": "0af78535",
   "metadata": {},
   "outputs": [
    {
     "data": {
      "text/plain": [
       "8"
      ]
     },
     "execution_count": 75,
     "metadata": {},
     "output_type": "execute_result"
    }
   ],
   "source": [
    "# 2변수 선형회귀의 미니배치 학습\n",
    "\n",
    "train_size = X.shape[0]\n",
    "batch_size = 4\n",
    "K = train_size//batch_size\n",
    "\n",
    "for epoch in range(1000):\n",
    "    batch_loss = 0.0\n",
    "    for step in range(K):\n",
    "        with tf.GradientTape() as tape:\n",
    "            y = tf.matmul(X, W)\n",
    "        "
   ]
  }
 ],
 "metadata": {
  "kernelspec": {
   "display_name": "Python 3 (ipykernel)",
   "language": "python",
   "name": "python3"
  },
  "language_info": {
   "codemirror_mode": {
    "name": "ipython",
    "version": 3
   },
   "file_extension": ".py",
   "mimetype": "text/x-python",
   "name": "python",
   "nbconvert_exporter": "python",
   "pygments_lexer": "ipython3",
   "version": "3.9.12"
  }
 },
 "nbformat": 4,
 "nbformat_minor": 5
}
