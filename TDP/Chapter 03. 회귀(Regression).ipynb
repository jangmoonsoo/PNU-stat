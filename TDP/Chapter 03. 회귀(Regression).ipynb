{
 "cells": [
  {
   "cell_type": "markdown",
   "id": "517d86a0",
   "metadata": {},
   "source": [
    "> 회귀는 훈련 데이터의 오차를 최소화하는 모델을 찾는 방법. 즉, 데이터에 맞는 모델을 찾는 문제임.\n",
    "모델이 직선, 평면 등과 같이 선형이면 선형회귀\n",
    "\n",
    "> Training 데이터는 (X,t)이며, X는 입력값, t는 목표값\n",
    "\n",
    "> 모델 파라미터는 (W,b)이며 가중치 W와 bias인 b\n",
    "\n",
    "$y = WX + b$"
   ]
  },
  {
   "cell_type": "code",
   "execution_count": null,
   "id": "61360caf",
   "metadata": {},
   "outputs": [],
   "source": []
  }
 ],
 "metadata": {
  "kernelspec": {
   "display_name": "Python 3 (ipykernel)",
   "language": "python",
   "name": "python3"
  },
  "language_info": {
   "codemirror_mode": {
    "name": "ipython",
    "version": 3
   },
   "file_extension": ".py",
   "mimetype": "text/x-python",
   "name": "python",
   "nbconvert_exporter": "python",
   "pygments_lexer": "ipython3",
   "version": "3.9.12"
  }
 },
 "nbformat": 4,
 "nbformat_minor": 5
}
